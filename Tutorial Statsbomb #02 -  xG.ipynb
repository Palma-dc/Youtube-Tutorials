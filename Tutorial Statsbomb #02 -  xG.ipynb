{
 "cells": [
  {
   "cell_type": "code",
   "execution_count": 1,
   "id": "0306fdf9",
   "metadata": {},
   "outputs": [
    {
     "name": "stderr",
     "output_type": "stream",
     "text": [
      "C:\\Users\\dcpal\\AppData\\Local\\Packages\\PythonSoftwareFoundation.Python.3.13_qbz5n2kfra8p0\\LocalCache\\local-packages\\Python313\\site-packages\\tqdm\\auto.py:21: TqdmWarning: IProgress not found. Please update jupyter and ipywidgets. See https://ipywidgets.readthedocs.io/en/stable/user_install.html\n",
      "  from .autonotebook import tqdm as notebook_tqdm\n"
     ]
    }
   ],
   "source": [
    "from statsbombpy import sb\n",
    "import pandas as pd\n",
    "from mplsoccer import VerticalPitch,Pitch\n",
    "import matplotlib.pyplot as plt\n",
    "import json\n",
    "import os\n",
    "from sklearn.preprocessing import OneHotEncoder \n",
    "import numpy as np\n",
    "import math\n",
    "import seaborn as sns\n",
    "from sklearn.ensemble import RandomForestClassifier\n",
    "from sklearn.model_selection import train_test_split\n",
    "from sklearn.preprocessing import StandardScaler\n",
    "from sklearn.linear_model import LogisticRegression\n",
    "from sklearn.metrics import accuracy_score\n",
    "from sklearn.metrics import roc_auc_score\n",
    "from xgboost import XGBClassifier\n",
    "from sklearn.svm import SVC\n",
    "from sklearn.model_selection import GridSearchCV\n",
    "from sklearn.pipeline import Pipeline\n",
    "from sklearn.metrics import brier_score_loss\n",
    "from sklearn.feature_selection import VarianceThreshold\n",
    "from sklearn.model_selection import RandomizedSearchCV\n",
    "from sklearn.model_selection import cross_val_score\n",
    "from sklearn.inspection import permutation_importance\n",
    "import shap\n",
    "from sklearn.metrics import mean_squared_error, r2_score\n",
    "import scipy.stats as stats\n",
    "from scipy.stats import shapiro\n",
    "from scipy.stats import kstest\n",
    "from scipy.stats import ttest_rel"
   ]
  },
  {
   "cell_type": "code",
   "execution_count": 2,
   "id": "29feeb24",
   "metadata": {},
   "outputs": [],
   "source": [
    "competitions = [(43,3), (55,43), (43,106), (55,282), (9,27), (11,27), (7,27), (2,27), (12,27)]"
   ]
  },
  {
   "cell_type": "code",
   "execution_count": 3,
   "id": "a4c46520",
   "metadata": {},
   "outputs": [
    {
     "data": {
      "text/plain": [
       "\"\\nmatch_id_list = []\\nfor comp_id, season_id in competitions:\\n    matches = sb.matches(comp_id, season_id)\\n    for match in matches['match_id']:\\n        match_id_list.append(match)\\n        \""
      ]
     },
     "execution_count": 3,
     "metadata": {},
     "output_type": "execute_result"
    }
   ],
   "source": [
    "\"\"\"\n",
    "match_id_list = []\n",
    "for comp_id, season_id in competitions:\n",
    "    matches = sb.matches(comp_id, season_id)\n",
    "    for match in matches['match_id']:\n",
    "        match_id_list.append(match)\n",
    "        \"\"\""
   ]
  },
  {
   "cell_type": "code",
   "execution_count": 4,
   "id": "7b0860ac",
   "metadata": {},
   "outputs": [
    {
     "data": {
      "text/plain": [
       "'folder_path = r\"C:/Users/dcpal/Downloads/archive/data/events\"\\nvalid_filenames = [f\"{file_id}.json\" for file_id in match_id_list]\\n\\n\\ndataframes = []\\n\\nfor file_name in os.listdir(folder_path):\\n    if file_name.endswith(\\'.json\\') and file_name in valid_filenames:\\n        file_path = os.path.join(folder_path, file_name)\\n        with open(file_path, encoding=\\'utf-8\\') as f:\\n            data = json.load(f)\\n            df = pd.json_normalize(data)\\n            dataframes.append(df)\\n\\nfinal_df = pd.concat(dataframes, ignore_index=True)\\n\\nfinal_df.to_json(\\'events.json\\', orient=\\'split\\', compression=\\'infer\\')\\n'"
      ]
     },
     "execution_count": 4,
     "metadata": {},
     "output_type": "execute_result"
    }
   ],
   "source": [
    "\n",
    "\"\"\"folder_path = r\"C:/Users/dcpal/Downloads/archive/data/events\"\n",
    "valid_filenames = [f\"{file_id}.json\" for file_id in match_id_list]\n",
    "\n",
    "\n",
    "dataframes = []\n",
    "\n",
    "for file_name in os.listdir(folder_path):\n",
    "    if file_name.endswith('.json') and file_name in valid_filenames:\n",
    "        file_path = os.path.join(folder_path, file_name)\n",
    "        with open(file_path, encoding='utf-8') as f:\n",
    "            data = json.load(f)\n",
    "            df = pd.json_normalize(data)\n",
    "            dataframes.append(df)\n",
    "\n",
    "final_df = pd.concat(dataframes, ignore_index=True)\n",
    "\n",
    "final_df.to_json('events.json', orient='split', compression='infer')\n",
    "\"\"\""
   ]
  },
  {
   "cell_type": "code",
   "execution_count": 5,
   "id": "7f661ec9",
   "metadata": {},
   "outputs": [
    {
     "data": {
      "text/plain": [
       "'folder_path = r\"C:/Users/dcpal/Downloads/archive/data/three-sixty\"\\nvalid_filenames = [f\"{file_id}.json\" for file_id in match_id_list]\\n\\n\\ndataframes = []\\n\\nfor file_name in os.listdir(folder_path):\\n    if file_name.endswith(\\'.json\\') and file_name in valid_filenames:\\n        file_path = os.path.join(folder_path, file_name)\\n        with open(file_path, encoding=\\'utf-8\\') as f:\\n            data = json.load(f)\\n            df = pd.json_normalize(data)\\n            dataframes.append(df)\\n\\nfinal_df = pd.concat(dataframes, ignore_index=True)\\n\\nfinal_df.to_json(\\'three_sixty.json\\', index=False)\\n'"
      ]
     },
     "execution_count": 5,
     "metadata": {},
     "output_type": "execute_result"
    }
   ],
   "source": [
    "\"\"\"folder_path = r\"C:/Users/dcpal/Downloads/archive/data/three-sixty\"\n",
    "valid_filenames = [f\"{file_id}.json\" for file_id in match_id_list]\n",
    "\n",
    "\n",
    "dataframes = []\n",
    "\n",
    "for file_name in os.listdir(folder_path):\n",
    "    if file_name.endswith('.json') and file_name in valid_filenames:\n",
    "        file_path = os.path.join(folder_path, file_name)\n",
    "        with open(file_path, encoding='utf-8') as f:\n",
    "            data = json.load(f)\n",
    "            df = pd.json_normalize(data)\n",
    "            dataframes.append(df)\n",
    "\n",
    "final_df = pd.concat(dataframes, ignore_index=True)\n",
    "\n",
    "final_df.to_json('three_sixty.json', index=False)\n",
    "\"\"\""
   ]
  },
  {
   "cell_type": "code",
   "execution_count": 6,
   "id": "d054d6ca",
   "metadata": {},
   "outputs": [
    {
     "data": {
      "text/plain": [
       "\"events_df = pd.read_json('events.json', orient='split')\\nframes_df = pd.read_json('three_sixty.json')\\nframes_df.rename(columns={'event_uuid': 'id'}, inplace = True)\""
      ]
     },
     "execution_count": 6,
     "metadata": {},
     "output_type": "execute_result"
    }
   ],
   "source": [
    "\"\"\"events_df = pd.read_json('events.json', orient='split')\n",
    "frames_df = pd.read_json('three_sixty.json')\n",
    "frames_df.rename(columns={'event_uuid': 'id'}, inplace = True)\"\"\""
   ]
  },
  {
   "cell_type": "code",
   "execution_count": 7,
   "id": "ed153b13",
   "metadata": {},
   "outputs": [],
   "source": [
    "#shots = events_df[events_df['type.name'] == 'Shot']"
   ]
  },
  {
   "cell_type": "code",
   "execution_count": 8,
   "id": "fb4c3c15",
   "metadata": {},
   "outputs": [],
   "source": [
    "#shots_df = shots.copy()"
   ]
  },
  {
   "cell_type": "code",
   "execution_count": 9,
   "id": "0e6fe692",
   "metadata": {},
   "outputs": [
    {
     "data": {
      "text/plain": [
       "'merged_df=pd.merge(shots_df, frames_df,\\nhow=\"inner\", on=[\"id\",\"id\"])'"
      ]
     },
     "execution_count": 9,
     "metadata": {},
     "output_type": "execute_result"
    }
   ],
   "source": [
    "\"\"\"merged_df=pd.merge(shots_df, frames_df,\n",
    "how=\"inner\", on=[\"id\",\"id\"])\"\"\""
   ]
  },
  {
   "cell_type": "code",
   "execution_count": 10,
   "id": "bd78fd9a",
   "metadata": {},
   "outputs": [],
   "source": [
    "#Import the df with shots from StatsBomb API\n",
    "merged_df = pd.read_json('merged_shots.json', orient='split')"
   ]
  },
  {
   "cell_type": "code",
   "execution_count": 11,
   "id": "9ad16f04",
   "metadata": {},
   "outputs": [
    {
     "data": {
      "text/plain": [
       "(3957, 150)"
      ]
     },
     "execution_count": 11,
     "metadata": {},
     "output_type": "execute_result"
    }
   ],
   "source": [
    "merged_df.shape"
   ]
  },
  {
   "cell_type": "code",
   "execution_count": 12,
   "id": "0f56e95d",
   "metadata": {},
   "outputs": [],
   "source": [
    "#Transform the 'shot.outcome.name' column to a binary 'Goal' column\n",
    "merged_df['Goal'] = merged_df['shot.outcome.name'].apply(lambda x: 1 if x == 'Goal' else 0)"
   ]
  },
  {
   "cell_type": "code",
   "execution_count": 13,
   "id": "90d9f3ae",
   "metadata": {},
   "outputs": [
    {
     "data": {
      "text/plain": [
       "array(['Right Foot', 'Left Foot', 'Head', 'Other'], dtype=object)"
      ]
     },
     "execution_count": 13,
     "metadata": {},
     "output_type": "execute_result"
    }
   ],
   "source": [
    "merged_df['shot.body_part.name'].unique()"
   ]
  },
  {
   "cell_type": "code",
   "execution_count": 14,
   "id": "b9c642ce",
   "metadata": {},
   "outputs": [
    {
     "data": {
      "text/plain": [
       "shot.body_part.name\n",
       "Right Foot    2050\n",
       "Left Foot     1194\n",
       "Head           689\n",
       "Other           24\n",
       "Name: count, dtype: int64"
      ]
     },
     "execution_count": 14,
     "metadata": {},
     "output_type": "execute_result"
    }
   ],
   "source": [
    "merged_df['shot.body_part.name'].value_counts()"
   ]
  },
  {
   "cell_type": "code",
   "execution_count": 15,
   "id": "657c333e",
   "metadata": {},
   "outputs": [
    {
     "data": {
      "text/plain": [
       "shot.type.name\n",
       "Open Play    3728\n",
       "Free Kick     125\n",
       "Penalty       100\n",
       "Corner          4\n",
       "Name: count, dtype: int64"
      ]
     },
     "execution_count": 15,
     "metadata": {},
     "output_type": "execute_result"
    }
   ],
   "source": [
    "merged_df['shot.type.name'].value_counts()"
   ]
  },
  {
   "cell_type": "code",
   "execution_count": 16,
   "id": "b02fcc5d",
   "metadata": {},
   "outputs": [],
   "source": [
    "#Filter out unwanted body parts and shot types\n",
    "merged_df = merged_df[merged_df['shot.body_part.name'] != 'Other']\n",
    "merged_df = merged_df[merged_df['shot.type.name'] != 'Corner']"
   ]
  },
  {
   "cell_type": "code",
   "execution_count": 17,
   "id": "ebcebe5f",
   "metadata": {},
   "outputs": [],
   "source": [
    "#Encode categorical variables using OneHotEncoder\n",
    "cat_encoder = OneHotEncoder(drop='first')\n",
    "body_part_encoded = cat_encoder.fit_transform(merged_df[['shot.body_part.name']])\n",
    "merged_df = merged_df.join(pd.DataFrame(body_part_encoded.toarray(), columns=cat_encoder.get_feature_names_out(['shot.body_part.name'])))"
   ]
  },
  {
   "cell_type": "code",
   "execution_count": 18,
   "id": "35e61d2d",
   "metadata": {},
   "outputs": [],
   "source": [
    "# Encode shot type\n",
    "type_encoded = cat_encoder.fit_transform(merged_df[['shot.type.name']])\n",
    "merged_df = merged_df.join(pd.DataFrame(type_encoded.toarray(), columns=cat_encoder.get_feature_names_out(['shot.type.name'])))"
   ]
  },
  {
   "cell_type": "code",
   "execution_count": 19,
   "id": "0bc622dd",
   "metadata": {},
   "outputs": [],
   "source": [
    "# Fill NaN values in 'shot.first_time' with 0\n",
    "merged_df['shot.first_time'] = merged_df['shot.first_time'].fillna(0)"
   ]
  },
  {
   "cell_type": "code",
   "execution_count": 20,
   "id": "d5245688",
   "metadata": {},
   "outputs": [],
   "source": [
    "# Extract keeper's position from freeze_frame for each shot\n",
    "keeper_x = []\n",
    "keeper_y = []\n",
    "\n",
    "for freeze in merged_df['freeze_frame']:\n",
    "    keeper_found = False\n",
    "    if isinstance(freeze, list):\n",
    "        for player in freeze:\n",
    "            if isinstance(player, dict) and player.get('keeper', False):\n",
    "                loc = player.get('location', [None, None])\n",
    "                keeper_x.append(loc[0])\n",
    "                keeper_y.append(loc[1])\n",
    "                keeper_found = True\n",
    "                break\n",
    "    if not keeper_found:\n",
    "        keeper_x.append(None)\n",
    "        keeper_y.append(None)\n",
    "\n",
    "merged_df['keeper_position_x'] = keeper_x\n",
    "merged_df['keeper_position_y'] = keeper_y"
   ]
  },
  {
   "cell_type": "code",
   "execution_count": 21,
   "id": "de788363",
   "metadata": {},
   "outputs": [],
   "source": [
    "# Drop rows where keeper's position is not available\n",
    "merged_df = merged_df.dropna(subset=['keeper_position_x', 'keeper_position_y']).reset_index(drop=True)"
   ]
  },
  {
   "cell_type": "code",
   "execution_count": 22,
   "id": "da819cb0",
   "metadata": {},
   "outputs": [],
   "source": [
    "# Calculate the distance from the keeper to the goal\n",
    "goal_position = [120, 40]\n",
    "merged_df['keeper_distance_to_goal'] = ((merged_df['keeper_position_x'] - goal_position[0]) ** 2 + (merged_df['keeper_position_y'] - goal_position[1]) ** 2) ** 0.5"
   ]
  },
  {
   "cell_type": "code",
   "execution_count": 23,
   "id": "a04cf0e2",
   "metadata": {},
   "outputs": [],
   "source": [
    "# Extract end location coordinates\n",
    "merged_df[['x_end','y_end', 'z_end']] = pd.DataFrame(merged_df['shot.end_location'].tolist(), index=merged_df.index)"
   ]
  },
  {
   "cell_type": "code",
   "execution_count": 24,
   "id": "4358f038",
   "metadata": {},
   "outputs": [],
   "source": [
    "# Function to calculate angle to goalkeeper\n",
    "def calculate_angle_to_goalkeeper(row):\n",
    "    shot_start = np.array([row['location'][0], row['location'][1]])\n",
    "    goalkeeper = np.array([row['keeper_position_x'], row['keeper_position_y']])\n",
    "\n",
    "    dx = goalkeeper[0] - shot_start[0]\n",
    "    dy = goalkeeper[1] - shot_start[1]\n",
    "    angle_rad = np.arctan2(dy, dx)\n",
    "    angle_deg = np.degrees(angle_rad)\n",
    "\n",
    "    return abs(angle_deg)\n",
    "\n",
    "# Apply function\n",
    "merged_df['angle_to_goalkeeper'] = merged_df.apply(calculate_angle_to_goalkeeper, axis=1)\n"
   ]
  },
  {
   "cell_type": "code",
   "execution_count": 31,
   "id": "ebb8b4a2",
   "metadata": {},
   "outputs": [
    {
     "data": {
      "text/html": [
       "<div>\n",
       "<style scoped>\n",
       "    .dataframe tbody tr th:only-of-type {\n",
       "        vertical-align: middle;\n",
       "    }\n",
       "\n",
       "    .dataframe tbody tr th {\n",
       "        vertical-align: top;\n",
       "    }\n",
       "\n",
       "    .dataframe thead th {\n",
       "        text-align: right;\n",
       "    }\n",
       "</style>\n",
       "<table border=\"1\" class=\"dataframe\">\n",
       "  <thead>\n",
       "    <tr style=\"text-align: right;\">\n",
       "      <th></th>\n",
       "      <th>location</th>\n",
       "      <th>keeper_position_x</th>\n",
       "      <th>keeper_position_y</th>\n",
       "      <th>keeper_distance_to_goal</th>\n",
       "      <th>angle_to_goalkeeper</th>\n",
       "    </tr>\n",
       "  </thead>\n",
       "  <tbody>\n",
       "    <tr>\n",
       "      <th>0</th>\n",
       "      <td>[114.6, 50.1]</td>\n",
       "      <td>118.030857</td>\n",
       "      <td>42.603415</td>\n",
       "      <td>3.264244</td>\n",
       "      <td>65.408514</td>\n",
       "    </tr>\n",
       "    <tr>\n",
       "      <th>1</th>\n",
       "      <td>[108.2, 27.3]</td>\n",
       "      <td>117.680280</td>\n",
       "      <td>37.370480</td>\n",
       "      <td>3.506490</td>\n",
       "      <td>46.729125</td>\n",
       "    </tr>\n",
       "    <tr>\n",
       "      <th>2</th>\n",
       "      <td>[108.6, 37.8]</td>\n",
       "      <td>118.888196</td>\n",
       "      <td>38.632890</td>\n",
       "      <td>1.762129</td>\n",
       "      <td>4.628338</td>\n",
       "    </tr>\n",
       "    <tr>\n",
       "      <th>3</th>\n",
       "      <td>[109.7, 42.8]</td>\n",
       "      <td>119.268633</td>\n",
       "      <td>41.497176</td>\n",
       "      <td>1.666263</td>\n",
       "      <td>7.753470</td>\n",
       "    </tr>\n",
       "    <tr>\n",
       "      <th>4</th>\n",
       "      <td>[110.8, 47.8]</td>\n",
       "      <td>117.894856</td>\n",
       "      <td>40.042025</td>\n",
       "      <td>2.105563</td>\n",
       "      <td>47.556327</td>\n",
       "    </tr>\n",
       "    <tr>\n",
       "      <th>...</th>\n",
       "      <td>...</td>\n",
       "      <td>...</td>\n",
       "      <td>...</td>\n",
       "      <td>...</td>\n",
       "      <td>...</td>\n",
       "    </tr>\n",
       "    <tr>\n",
       "      <th>3732</th>\n",
       "      <td>[107.2, 50.2]</td>\n",
       "      <td>116.944476</td>\n",
       "      <td>42.636457</td>\n",
       "      <td>4.035732</td>\n",
       "      <td>37.818180</td>\n",
       "    </tr>\n",
       "    <tr>\n",
       "      <th>3733</th>\n",
       "      <td>[111.2, 36.3]</td>\n",
       "      <td>114.506754</td>\n",
       "      <td>38.642543</td>\n",
       "      <td>5.658484</td>\n",
       "      <td>35.314202</td>\n",
       "    </tr>\n",
       "    <tr>\n",
       "      <th>3734</th>\n",
       "      <td>[109.5, 44.1]</td>\n",
       "      <td>119.517241</td>\n",
       "      <td>42.216993</td>\n",
       "      <td>2.268945</td>\n",
       "      <td>10.646035</td>\n",
       "    </tr>\n",
       "    <tr>\n",
       "      <th>3735</th>\n",
       "      <td>[114.8, 35.5]</td>\n",
       "      <td>117.551437</td>\n",
       "      <td>39.383474</td>\n",
       "      <td>2.524988</td>\n",
       "      <td>54.682465</td>\n",
       "    </tr>\n",
       "    <tr>\n",
       "      <th>3736</th>\n",
       "      <td>[113.1, 41.4]</td>\n",
       "      <td>117.900785</td>\n",
       "      <td>37.353844</td>\n",
       "      <td>3.377699</td>\n",
       "      <td>40.124572</td>\n",
       "    </tr>\n",
       "  </tbody>\n",
       "</table>\n",
       "<p>3737 rows × 5 columns</p>\n",
       "</div>"
      ],
      "text/plain": [
       "           location  keeper_position_x  keeper_position_y  \\\n",
       "0     [114.6, 50.1]         118.030857          42.603415   \n",
       "1     [108.2, 27.3]         117.680280          37.370480   \n",
       "2     [108.6, 37.8]         118.888196          38.632890   \n",
       "3     [109.7, 42.8]         119.268633          41.497176   \n",
       "4     [110.8, 47.8]         117.894856          40.042025   \n",
       "...             ...                ...                ...   \n",
       "3732  [107.2, 50.2]         116.944476          42.636457   \n",
       "3733  [111.2, 36.3]         114.506754          38.642543   \n",
       "3734  [109.5, 44.1]         119.517241          42.216993   \n",
       "3735  [114.8, 35.5]         117.551437          39.383474   \n",
       "3736  [113.1, 41.4]         117.900785          37.353844   \n",
       "\n",
       "      keeper_distance_to_goal  angle_to_goalkeeper  \n",
       "0                    3.264244            65.408514  \n",
       "1                    3.506490            46.729125  \n",
       "2                    1.762129             4.628338  \n",
       "3                    1.666263             7.753470  \n",
       "4                    2.105563            47.556327  \n",
       "...                       ...                  ...  \n",
       "3732                 4.035732            37.818180  \n",
       "3733                 5.658484            35.314202  \n",
       "3734                 2.268945            10.646035  \n",
       "3735                 2.524988            54.682465  \n",
       "3736                 3.377699            40.124572  \n",
       "\n",
       "[3737 rows x 5 columns]"
      ]
     },
     "execution_count": 31,
     "metadata": {},
     "output_type": "execute_result"
    }
   ],
   "source": [
    "merged_df[['location', 'keeper_position_x', 'keeper_position_y', 'keeper_distance_to_goal', 'angle_to_goalkeeper']]"
   ]
  },
  {
   "cell_type": "code",
   "execution_count": 28,
   "id": "ef61216a",
   "metadata": {},
   "outputs": [
    {
     "data": {
      "text/plain": [
       "np.float64(178.5009999688589)"
      ]
     },
     "execution_count": 28,
     "metadata": {},
     "output_type": "execute_result"
    }
   ],
   "source": [
    "merged_df['angle_to_goalkeeper'].max()"
   ]
  },
  {
   "cell_type": "code",
   "execution_count": 26,
   "id": "6a52edfa",
   "metadata": {},
   "outputs": [],
   "source": [
    "# Calculate the distance to the center of the pitch\n",
    "merged_df['distance_to_center'] = merged_df['location'].apply(lambda lst: abs(lst[1] - 60))"
   ]
  },
  {
   "cell_type": "code",
   "execution_count": 27,
   "id": "8b87193b",
   "metadata": {},
   "outputs": [],
   "source": [
    "# Define the coordinates of the goalposts\n",
    "left_post = [120,36]\n",
    "right_post = [120,44]\n",
    "# Function to calculate angle to goal\n",
    "def calculate_angle_to_goal(row):\n",
    "    shot_start = np.array([row['location'][0], row['location'][1]])\n",
    "\n",
    "    # Vectors AB and BC\n",
    "    shot_start_right_post =  shot_start - np.array(right_post)\n",
    "    shot_start_left_post = shot_start - np.array(left_post)\n",
    "\n",
    "    # Compute angle using dot product formula\n",
    "    dot_product = np.dot(shot_start_right_post, shot_start_left_post)\n",
    "    mag_shot_start_right_post = np.linalg.norm(shot_start_right_post)\n",
    "    mag_shot_start_left_post = np.linalg.norm(shot_start_left_post)\n",
    "\n",
    "    # Avoid division by zero\n",
    "    if mag_shot_start_right_post == 0 or mag_shot_start_left_post == 0:\n",
    "        return np.nan\n",
    "\n",
    "    # Calculate angle in radians then convert to degrees\n",
    "    angle_rad = np.arccos(dot_product / (mag_shot_start_right_post * mag_shot_start_left_post))\n",
    "    angle_deg = np.degrees(angle_rad)\n",
    "    return angle_deg\n",
    "\n",
    "# Apply function\n",
    "merged_df['angle_to_goal'] = merged_df.apply(calculate_angle_to_goal, axis=1)\n"
   ]
  },
  {
   "cell_type": "code",
   "execution_count": 28,
   "id": "63331e34",
   "metadata": {},
   "outputs": [],
   "source": [
    "# Calculate the distance from the shot location to the goal\n",
    "merged_df['shot_distance_to_goal'] = merged_df['location'].apply(\n",
    "    lambda loc: ((loc[0] - goal_position[0]) ** 2 + (loc[1] - goal_position[1]) ** 2) ** 0.5)"
   ]
  },
  {
   "cell_type": "code",
   "execution_count": 29,
   "id": "b50f93e9",
   "metadata": {},
   "outputs": [],
   "source": [
    "# Function to count nearby non-actors within 3 units of distance\n",
    "def count_nearby_non_actors(row):\n",
    "\n",
    "\n",
    "    loc = row['location']\n",
    "    loc_x, loc_y = loc[0], loc[1]\n",
    "    players = row['freeze_frame']\n",
    "\n",
    "    return sum(\n",
    "        1 for p in players\n",
    "        if p.get('actor') is False and p.get('teammate') is False and\n",
    "        math.sqrt((p['location'][0] - loc_x)**2 + (p['location'][1] - loc_y)**2) <= 3\n",
    "    )\n",
    "\n",
    "\n",
    "merged_df['nearby_non_actors'] = merged_df.apply(count_nearby_non_actors, axis=1)"
   ]
  },
  {
   "cell_type": "code",
   "execution_count": 30,
   "id": "2bb2a5f4",
   "metadata": {},
   "outputs": [],
   "source": [
    "def sign(p1, p2, p3):\n",
    "    return (p1[0] - p3[0]) * (p2[1] - p3[1]) - (p2[0] - p3[0]) * (p1[1] - p3[1])\n",
    "# Function to check if a point is inside the triangle formed by the goalposts and the shot location\n",
    "def inside_triangle(row):\n",
    "    loc = row['location']\n",
    "    count = 0\n",
    "    for p in row['freeze_frame']:\n",
    "        if not p.get('actor') and not p.get('teammate'):\n",
    "            test_pt = p['location']\n",
    "            d1 = sign(test_pt, loc, left_post)\n",
    "            d2 = sign(test_pt, right_post, loc)\n",
    "            d3 = sign(test_pt, left_post, right_post)\n",
    "\n",
    "            has_neg = (d1 < 0) or (d2 < 0) or (d3 < 0)\n",
    "            has_pos = (d1 > 0) or (d2 > 0) or (d3 > 0)\n",
    "\n",
    "            if not (has_neg and has_pos):\n",
    "                count += 1\n",
    "    return count\n",
    "\n",
    "\n",
    "merged_df['inside_triangle'] = merged_df.apply(inside_triangle, axis=1)"
   ]
  },
  {
   "cell_type": "code",
   "execution_count": 31,
   "id": "0121187c",
   "metadata": {},
   "outputs": [],
   "source": [
    "# Function to calculate the nearest opponent\n",
    "def nearest_opponent(row):\n",
    "    loc = row['location']\n",
    "    loc_x, loc_y = loc[0], loc[1]\n",
    "    players = row['freeze_frame']\n",
    "    min_dist = float('inf')\n",
    "    for p in players:\n",
    "        if p.get('actor') is False and p.get('teammate') is False:\n",
    "            dist = math.sqrt((p['location'][0] - loc_x)**2 + (p['location'][1] - loc_y)**2)\n",
    "            if dist < min_dist:\n",
    "                min_dist = dist\n",
    "    return min_dist if min_dist != float('inf') else None\n",
    "\n",
    "merged_df['nearest_opponent'] = merged_df.apply(nearest_opponent, axis=1)"
   ]
  },
  {
   "cell_type": "code",
   "execution_count": 32,
   "id": "a419c45b",
   "metadata": {},
   "outputs": [],
   "source": [
    "# Function to calculate the angle to the nearest opponent\n",
    "def angle_nearest_opponent(row):\n",
    "    loc = row['location']\n",
    "    loc_x, loc_y = loc[0], loc[1]\n",
    "    players = row['freeze_frame']\n",
    "    min_dist = float('inf')\n",
    "    closest_player = None\n",
    "    for p in players:\n",
    "        if p.get('actor') is False and p.get('teammate') is False:\n",
    "            dist = math.sqrt((p['location'][0] - loc_x)**2 + (p['location'][1] - loc_y)**2)\n",
    "            if dist < min_dist:\n",
    "                min_dist = dist\n",
    "                closest_player = p['location']\n",
    "    \n",
    "    dx = closest_player[0] - loc[0]\n",
    "    dy = closest_player[1] - loc[1]\n",
    "    angle_rad = np.arctan2(dy, dx)\n",
    "    angle_deg = np.degrees(angle_rad)\n",
    "\n",
    "    return abs(angle_deg)\n",
    "\n",
    "merged_df['angle_nearest_opponent'] = merged_df.apply(angle_nearest_opponent, axis=1)"
   ]
  },
  {
   "cell_type": "code",
   "execution_count": 33,
   "id": "edc8eff0",
   "metadata": {},
   "outputs": [],
   "source": [
    "# Select relevant columns for the final DataFrame\n",
    "final_df = merged_df[[\n",
    " 'Goal',\n",
    " 'shot.first_time',\n",
    " 'shot.type.name',\n",
    " 'shot.body_part.name_Left Foot',\n",
    " 'shot.body_part.name_Right Foot',\n",
    " 'shot.type.name_Open Play',\n",
    " 'shot.type.name_Penalty',\n",
    " 'keeper_distance_to_goal',\n",
    " 'angle_to_goalkeeper',\n",
    " 'distance_to_center',\n",
    " 'angle_to_goal',\n",
    " 'shot_distance_to_goal',\n",
    " 'nearby_non_actors',\n",
    " 'inside_triangle',\n",
    " 'nearest_opponent',\n",
    " 'angle_nearest_opponent']]"
   ]
  },
  {
   "cell_type": "code",
   "execution_count": 34,
   "id": "e130b87d",
   "metadata": {},
   "outputs": [],
   "source": [
    "# Filter out rows where 'shot.type.name_Penalty' is NaN\n",
    "final_df = final_df[final_df['shot.type.name_Penalty'].isnull() == False]"
   ]
  },
  {
   "cell_type": "code",
   "execution_count": 35,
   "id": "42f12e6d",
   "metadata": {},
   "outputs": [
    {
     "data": {
      "image/png": "[encoded data removed]",
      "text/plain": [
       "<Figure size 1200x1000 with 2 Axes>"
      ]
     },
     "metadata": {},
     "output_type": "display_data"
    }
   ],
   "source": [
    "# Drop unnecessary columns for correlation analysis\n",
    "corr_df = final_df.drop(['Goal','shot.type.name'], axis=1)\n",
    "# Calculate the correlation matrix\n",
    "corr_matrix = corr_df.corr(method='pearson').round(2)\n",
    "\n",
    "plt.figure(figsize=(12, 10))\n",
    "sns.heatmap(corr_matrix, annot=True, cmap='Blues', square=True, vmin=-1, vmax=1, fmt='.2f')\n",
    "plt.show()"
   ]
  },
  {
   "cell_type": "code",
   "execution_count": 36,
   "id": "97e90d9d",
   "metadata": {},
   "outputs": [],
   "source": [
    "# Our target column is 'Goal'\n",
    "X = final_df.drop('Goal', axis=1)\n",
    "y = final_df['Goal']\n",
    "stratified = final_df['shot.type.name']\n",
    "\n",
    "# Stratify by the target column\n",
    "X_train, X_temp, y_train, y_temp = train_test_split(\n",
    "    X, y, test_size=0.4, random_state=42, stratify=stratified\n",
    ")\n",
    "\n",
    "# Then stratify again for validation and test split\n",
    "X_val, X_test, y_val, y_test = train_test_split(\n",
    "    X_temp, y_temp, test_size=0.5, random_state=42, stratify=y_temp\n",
    ")\n"
   ]
  },
  {
   "cell_type": "code",
   "execution_count": 37,
   "id": "f0931b24",
   "metadata": {},
   "outputs": [],
   "source": [
    "# Drop the 'shot.type.name' column from the training, validation, and test sets\n",
    "X_train = X_train.drop('shot.type.name', axis=1)\n",
    "X_val = X_val.drop('shot.type.name', axis=1)\n",
    "X_test = X_test.drop('shot.type.name', axis=1)"
   ]
  },
  {
   "cell_type": "code",
   "execution_count": 38,
   "id": "f87d7263",
   "metadata": {},
   "outputs": [],
   "source": [
    "# Scale the numeric columns\n",
    "scaler = StandardScaler()\n",
    "numeric_columns = [ 'keeper_distance_to_goal',\n",
    "       'angle_to_goalkeeper', 'distance_to_center', 'angle_to_goal',\n",
    "       'shot_distance_to_goal', 'nearby_non_actors', 'inside_triangle',\n",
    "       'nearest_opponent', 'angle_nearest_opponent']\n",
    "X_train[numeric_columns] = scaler.fit_transform(X_train[numeric_columns])\n",
    "X_val[numeric_columns] = scaler.transform(X_val[numeric_columns])\n",
    "X_test[numeric_columns] = scaler.transform(X_test[numeric_columns])"
   ]
  },
  {
   "cell_type": "code",
   "execution_count": 39,
   "id": "d72951df",
   "metadata": {},
   "outputs": [
    {
     "data": {
      "text/plain": [
       "<Axes: title={'center': 'Feature Importances'}>"
      ]
     },
     "execution_count": 39,
     "metadata": {},
     "output_type": "execute_result"
    },
    {
     "data": {
      "image/png": "[encoded data removed]",
      "text/plain": [
       "<Figure size 640x480 with 1 Axes>"
      ]
     },
     "metadata": {},
     "output_type": "display_data"
    }
   ],
   "source": [
    "# Train the model\n",
    "model = RandomForestClassifier(n_estimators=100, random_state=42)\n",
    "model.fit(X_train, y_train)\n",
    "\n",
    "# Get feature importances\n",
    "importances = pd.Series(model.feature_importances_, index=X_train.columns)\n",
    "importances.sort_values(ascending=False).plot(kind='bar', title='Feature Importances')"
   ]
  },
  {
   "cell_type": "code",
   "execution_count": 40,
   "id": "daa850b9",
   "metadata": {},
   "outputs": [
    {
     "name": "stdout",
     "output_type": "stream",
     "text": [
      "shot.first_time                    2.189756\n",
      "shot.body_part.name_Left Foot      2.259836\n",
      "shot.body_part.name_Right Foot     0.927003\n",
      "shot.type.name_Open Play           0.060640\n",
      "shot.type.name_Penalty            38.052365\n",
      "keeper_distance_to_goal            0.406654\n",
      "angle_to_goalkeeper                0.545478\n",
      "distance_to_center                 0.210046\n",
      "angle_to_goal                      0.351943\n",
      "shot_distance_to_goal              0.182762\n",
      "nearby_non_actors                  0.944663\n",
      "inside_triangle                    0.455005\n",
      "nearest_opponent                   0.664861\n",
      "angle_nearest_opponent             0.561111\n",
      "dtype: float64\n"
     ]
    }
   ],
   "source": [
    "# Normalize the data\n",
    "final_df_to_normalize = final_df.drop(['Goal','shot.type.name'], axis=1)\n",
    "normalized_df = final_df_to_normalize / final_df_to_normalize.mean()\n",
    "\n",
    "# Print the variances of the normalized data\n",
    "print(normalized_df.var())"
   ]
  },
  {
   "cell_type": "markdown",
   "id": "df41b403",
   "metadata": {},
   "source": [
    "First Round of Model Evaluation"
   ]
  },
  {
   "cell_type": "code",
   "execution_count": 41,
   "id": "888d6c96",
   "metadata": {},
   "outputs": [],
   "source": [
    "# Train a logistic regression model\n",
    "log_reg = LogisticRegression()\n",
    "log_reg.fit(X_train, y_train)\n",
    "y_val_proba = log_reg.predict_proba(X_val)[:, 1]  # Probability of positive class"
   ]
  },
  {
   "cell_type": "code",
   "execution_count": 42,
   "id": "7bba9d89",
   "metadata": {},
   "outputs": [
    {
     "name": "stdout",
     "output_type": "stream",
     "text": [
      "Brier Score: 0.07313704833672413\n",
      "                           Feature  Importance\n",
      "9            shot_distance_to_goal    0.904793\n",
      "12                nearest_opponent    0.533925\n",
      "6              angle_to_goalkeeper    0.376827\n",
      "8                    angle_to_goal    0.362911\n",
      "2   shot.body_part.name_Right Foot    0.361958\n",
      "5          keeper_distance_to_goal    0.343787\n",
      "10               nearby_non_actors    0.284522\n",
      "4           shot.type.name_Penalty    0.180376\n",
      "1    shot.body_part.name_Left Foot    0.180292\n",
      "11                 inside_triangle    0.160916\n",
      "13          angle_nearest_opponent    0.094333\n",
      "7               distance_to_center    0.044162\n",
      "3         shot.type.name_Open Play    0.033434\n",
      "0                  shot.first_time    0.007468\n"
     ]
    }
   ],
   "source": [
    "brier_score = brier_score_loss(y_val, y_val_proba)\n",
    "print(\"Brier Score:\", brier_score)\n",
    "importance = np.abs(log_reg.coef_[0])\n",
    "importance_df = pd.DataFrame({'Feature': X_val.columns, 'Importance': importance})\n",
    "importance_df.sort_values(by='Importance', ascending=False, inplace=True)\n",
    "print(importance_df)"
   ]
  },
  {
   "cell_type": "code",
   "execution_count": 43,
   "id": "37c84a12",
   "metadata": {},
   "outputs": [],
   "source": [
    "# Train a Random Forest model\n",
    "rand_for = RandomForestClassifier(n_estimators=100, random_state=42, class_weight='balanced')\n",
    "rand_for.fit(X_train, y_train)\n",
    "y_val_proba = rand_for.predict_proba(X_val)[:, 1]  # Probability of positive class"
   ]
  },
  {
   "cell_type": "code",
   "execution_count": 44,
   "id": "a2b6e904",
   "metadata": {},
   "outputs": [
    {
     "name": "stdout",
     "output_type": "stream",
     "text": [
      "Brier Score: 0.07502533692722373\n",
      "                           Feature  Importance\n",
      "9            shot_distance_to_goal    0.149347\n",
      "8                    angle_to_goal    0.145098\n",
      "12                nearest_opponent    0.133993\n",
      "5          keeper_distance_to_goal    0.128679\n",
      "13          angle_nearest_opponent    0.118344\n",
      "6              angle_to_goalkeeper    0.106159\n",
      "7               distance_to_center    0.099433\n",
      "10               nearby_non_actors    0.035378\n",
      "11                 inside_triangle    0.029417\n",
      "0                  shot.first_time    0.016921\n",
      "2   shot.body_part.name_Right Foot    0.013794\n",
      "1    shot.body_part.name_Left Foot    0.013146\n",
      "3         shot.type.name_Open Play    0.006057\n",
      "4           shot.type.name_Penalty    0.004233\n"
     ]
    }
   ],
   "source": [
    "#Calculate the Brier score and feature importance\n",
    "brier_score = brier_score_loss(y_val, y_val_proba)\n",
    "print(\"Brier Score:\", brier_score)\n",
    "\n",
    "importances = model.feature_importances_\n",
    "feature_names = X_val.columns  # or use whatever feature names you have\n",
    "importance_df = pd.DataFrame({'Feature': feature_names, 'Importance': importances})\n",
    "importance_df.sort_values(by='Importance', ascending=False, inplace=True)\n",
    "print(importance_df)"
   ]
  },
  {
   "cell_type": "code",
   "execution_count": 45,
   "id": "08ce02e3",
   "metadata": {},
   "outputs": [],
   "source": [
    "# Train an XGBoost model\n",
    "xg = XGBClassifier(n_estimators=100, learning_rate=0.1, use_label_encoder=False, eval_metric='logloss')\n",
    "xg.fit(X_train, y_train)\n",
    "y_val_proba = xg.predict_proba(X_val)[:, 1]  # Probability of positive class"
   ]
  },
  {
   "cell_type": "code",
   "execution_count": 46,
   "id": "5ac6150a",
   "metadata": {},
   "outputs": [
    {
     "name": "stdout",
     "output_type": "stream",
     "text": [
      "Brier Score: 0.0758680104416542\n",
      "                                Importance\n",
      "Feature                                   \n",
      "angle_to_goal                     5.576633\n",
      "shot_distance_to_goal             2.787067\n",
      "nearest_opponent                  2.737567\n",
      "keeper_distance_to_goal           2.114331\n",
      "angle_nearest_opponent            2.066939\n",
      "inside_triangle                   1.999442\n",
      "nearby_non_actors                 1.840273\n",
      "angle_to_goalkeeper               1.793484\n",
      "distance_to_center                1.706851\n",
      "shot.body_part.name_Left Foot     1.641966\n",
      "shot.first_time                   1.605208\n",
      "shot.type.name_Penalty            1.563892\n",
      "shot.type.name_Open Play          1.418852\n",
      "shot.body_part.name_Right Foot    1.307556\n"
     ]
    }
   ],
   "source": [
    "# Calculate the Brier score and feature importance\n",
    "brier_score = brier_score_loss(y_val, y_val_proba)\n",
    "print(\"Brier Score:\", brier_score)\n",
    "\n",
    "importance = xg.get_booster().get_score(importance_type='gain')  # or 'weight', 'cover'\n",
    "importance_df = pd.DataFrame.from_dict(importance, orient='index', columns=['Importance'])\n",
    "importance_df.index.name = 'Feature'\n",
    "importance_df.sort_values(by='Importance', ascending=False, inplace=True)\n",
    "print(importance_df)"
   ]
  },
  {
   "cell_type": "code",
   "execution_count": 47,
   "id": "6fd7b99c",
   "metadata": {},
   "outputs": [],
   "source": [
    "# Train a Support Vector Classifier (SVC) model\n",
    "svc = SVC(probability=True, kernel='rbf', random_state=42)\n",
    "svc.fit(X_train, y_train)\n",
    "y_val_proba = svc.predict_proba(X_val)[:, 1]  # Probability of positive class"
   ]
  },
  {
   "cell_type": "code",
   "execution_count": 48,
   "id": "fc6df2e9",
   "metadata": {},
   "outputs": [
    {
     "name": "stdout",
     "output_type": "stream",
     "text": [
      "Brier Score: 0.075023613490697\n",
      "                           Feature  Importance\n",
      "12                nearest_opponent    0.011457\n",
      "8                    angle_to_goal    0.003456\n",
      "9            shot_distance_to_goal    0.001643\n",
      "13          angle_nearest_opponent    0.000828\n",
      "0                  shot.first_time    0.000254\n",
      "5          keeper_distance_to_goal    0.000240\n",
      "2   shot.body_part.name_Right Foot    0.000223\n",
      "11                 inside_triangle    0.000127\n",
      "4           shot.type.name_Penalty    0.000018\n",
      "6              angle_to_goalkeeper   -0.000048\n",
      "3         shot.type.name_Open Play   -0.000130\n",
      "7               distance_to_center   -0.000191\n",
      "1    shot.body_part.name_Left Foot   -0.000336\n",
      "10               nearby_non_actors   -0.000349\n"
     ]
    }
   ],
   "source": [
    "# Calculate the Brier score and feature importance\n",
    "brier_score = brier_score_loss(y_val, y_val_proba)\n",
    "print(\"Brier Score:\", brier_score)\n",
    "result = permutation_importance(svc, X_val, y_val, n_repeats=30, random_state=42, scoring='neg_brier_score')\n",
    "importance_df = pd.DataFrame({'Feature': X_val.columns, 'Importance': result.importances_mean})\n",
    "importance_df.sort_values(by='Importance', ascending=False, inplace=True)\n",
    "print(importance_df)"
   ]
  },
  {
   "cell_type": "markdown",
   "id": "dfa96260",
   "metadata": {},
   "source": [
    "Second Round of Model Evaluation"
   ]
  },
  {
   "cell_type": "code",
   "execution_count": 49,
   "id": "0dcbd5db",
   "metadata": {},
   "outputs": [
    {
     "name": "stdout",
     "output_type": "stream",
     "text": [
      "Brier Score: 0.07324211649343372\n",
      "                          Feature  Importance\n",
      "6           shot_distance_to_goal    0.932777\n",
      "9                nearest_opponent    0.523972\n",
      "4             angle_to_goalkeeper    0.359956\n",
      "1  shot.body_part.name_Right Foot    0.359538\n",
      "5                   angle_to_goal    0.355685\n",
      "3         keeper_distance_to_goal    0.344524\n",
      "7               nearby_non_actors    0.288132\n",
      "0   shot.body_part.name_Left Foot    0.195921\n",
      "8                 inside_triangle    0.183038\n",
      "2          shot.type.name_Penalty    0.133752\n"
     ]
    }
   ],
   "source": [
    "# Train a Logistic Regression model with feature selection\n",
    "X_train_log_reg_2 = X_train.drop(['shot.first_time', 'shot.type.name_Open Play', 'angle_nearest_opponent', 'distance_to_center'], axis=1)\n",
    "X_val_log_reg_2 = X_val.drop(['shot.first_time', 'shot.type.name_Open Play', 'angle_nearest_opponent', 'distance_to_center'], axis=1)\n",
    "log_reg = LogisticRegression()\n",
    "log_reg.fit(X_train_log_reg_2, y_train)\n",
    "y_val_proba = log_reg.predict_proba(X_val_log_reg_2)[:, 1]  # Probability of positive class\n",
    "brier_score = brier_score_loss(y_val, y_val_proba)\n",
    "print(\"Brier Score:\", brier_score)\n",
    "importance = np.abs(log_reg.coef_[0])\n",
    "importance_df = pd.DataFrame({'Feature': X_val_log_reg_2.columns, 'Importance': importance})\n",
    "importance_df.sort_values(by='Importance', ascending=False, inplace=True)\n",
    "print(importance_df)"
   ]
  },
  {
   "cell_type": "code",
   "execution_count": 50,
   "id": "8c8768a6",
   "metadata": {},
   "outputs": [
    {
     "name": "stdout",
     "output_type": "stream",
     "text": [
      "Brier Score: 0.0748032345013477\n",
      "                           Feature  Importance\n",
      "7            shot_distance_to_goal    0.176971\n",
      "6                    angle_to_goal    0.167551\n",
      "10                nearest_opponent    0.123083\n",
      "3          keeper_distance_to_goal    0.114427\n",
      "11          angle_nearest_opponent    0.107612\n",
      "5               distance_to_center    0.104271\n",
      "4              angle_to_goalkeeper    0.095129\n",
      "9                  inside_triangle    0.039871\n",
      "8                nearby_non_actors    0.032335\n",
      "0                  shot.first_time    0.015173\n",
      "2   shot.body_part.name_Right Foot    0.013825\n",
      "1    shot.body_part.name_Left Foot    0.009755\n"
     ]
    }
   ],
   "source": [
    "# Train a Random Forest model with feature selection\n",
    "X_train_ran_for_2 = X_train.drop(['shot.type.name_Penalty', 'shot.type.name_Open Play'], axis=1)\n",
    "X_val_ran_for_2 = X_val.drop(['shot.type.name_Penalty', 'shot.type.name_Open Play'], axis=1)\n",
    "\n",
    "\n",
    "rand_for = RandomForestClassifier(n_estimators=100, random_state=42, class_weight='balanced')\n",
    "rand_for.fit(X_train_ran_for_2, y_train)\n",
    "y_val_proba = rand_for.predict_proba(X_val_ran_for_2)[:, 1]  # Probability of positive class\n",
    "brier_score = brier_score_loss(y_val, y_val_proba)\n",
    "print(\"Brier Score:\", brier_score)\n",
    "\n",
    "importances = rand_for.feature_importances_\n",
    "feature_names = X_val_ran_for_2.columns  # or use whatever feature names you have\n",
    "importance_df = pd.DataFrame({'Feature': feature_names, 'Importance': importances})\n",
    "importance_df.sort_values(by='Importance', ascending=False, inplace=True)\n",
    "print(importance_df)\n",
    "\n"
   ]
  },
  {
   "cell_type": "code",
   "execution_count": 51,
   "id": "3e16e860",
   "metadata": {},
   "outputs": [
    {
     "name": "stdout",
     "output_type": "stream",
     "text": [
      "Brier Score: 0.07469311728023036\n",
      "                   Feature  Importance\n",
      "7         nearest_opponent    0.010569\n",
      "3            angle_to_goal    0.004134\n",
      "4    shot_distance_to_goal    0.001921\n",
      "8   angle_nearest_opponent    0.000940\n",
      "0          shot.first_time    0.000457\n",
      "1  keeper_distance_to_goal    0.000369\n",
      "5        nearby_non_actors    0.000043\n",
      "6          inside_triangle    0.000011\n",
      "2      angle_to_goalkeeper   -0.000352\n"
     ]
    }
   ],
   "source": [
    "# Train a Support Vector Classifier (SVC) model with feature selection\n",
    "X_train_svc_2 = X_train.drop(['shot.type.name_Penalty', 'distance_to_center', 'shot.body_part.name_Left Foot', 'shot.body_part.name_Right Foot', 'shot.type.name_Open Play'], axis=1)\n",
    "X_val_svc_2 = X_val.drop(['shot.type.name_Penalty', 'distance_to_center', 'shot.body_part.name_Left Foot', 'shot.body_part.name_Right Foot', 'shot.type.name_Open Play'], axis=1)\n",
    "\n",
    "svc = SVC(probability=True, kernel='rbf', random_state=42)\n",
    "svc.fit(X_train_svc_2, y_train)\n",
    "y_val_proba = svc.predict_proba(X_val_svc_2)[:, 1]  # Probability of positive class\n",
    "brier_score = brier_score_loss(y_val, y_val_proba)\n",
    "print(\"Brier Score:\", brier_score)\n",
    "result = permutation_importance(svc, X_val_svc_2, y_val, n_repeats=30, random_state=42, scoring='neg_brier_score')\n",
    "importance_df = pd.DataFrame({'Feature': X_train_svc_2.columns, 'Importance': result.importances_mean})\n",
    "importance_df.sort_values(by='Importance', ascending=False, inplace=True)\n",
    "print(importance_df)\n",
    "\n"
   ]
  },
  {
   "cell_type": "markdown",
   "id": "814d526c",
   "metadata": {},
   "source": [
    "Third Round of Model Evaluation"
   ]
  },
  {
   "cell_type": "code",
   "execution_count": 52,
   "id": "bb1e9b91",
   "metadata": {},
   "outputs": [
    {
     "name": "stdout",
     "output_type": "stream",
     "text": [
      "Brier Score: 0.0744790153629885\n",
      "                   Feature  Importance\n",
      "6         nearest_opponent    0.011241\n",
      "2            angle_to_goal    0.004698\n",
      "3    shot_distance_to_goal    0.002305\n",
      "7   angle_nearest_opponent    0.001360\n",
      "1  keeper_distance_to_goal    0.000668\n",
      "0          shot.first_time    0.000390\n",
      "4        nearby_non_actors    0.000316\n",
      "5          inside_triangle    0.000238\n"
     ]
    }
   ],
   "source": [
    "# Train a Support Vector Classifier (SVC) model with further feature selection\n",
    "X_train_svc_3 =X_train_svc_2.drop(['angle_to_goalkeeper'], axis=1)\n",
    "X_val_svc_3 =X_val_svc_2.drop(['angle_to_goalkeeper'], axis=1)\n",
    "\n",
    "svc = SVC(probability=True, kernel='rbf', random_state=42)\n",
    "svc.fit(X_train_svc_3, y_train)\n",
    "y_val_proba = svc.predict_proba(X_val_svc_3)[:, 1]  # Probability of positive class\n",
    "brier_score = brier_score_loss(y_val, y_val_proba)\n",
    "print(\"Brier Score:\", brier_score)\n",
    "result = permutation_importance(svc, X_val_svc_3, y_val, n_repeats=30, random_state=42, scoring='neg_brier_score')\n",
    "importance_df = pd.DataFrame({'Feature': X_val_svc_3.columns, 'Importance': result.importances_mean})\n",
    "importance_df.sort_values(by='Importance', ascending=False, inplace=True)\n",
    "print(importance_df)"
   ]
  },
  {
   "cell_type": "markdown",
   "id": "25453537",
   "metadata": {},
   "source": [
    "Tuning the model with GridSearchCV"
   ]
  },
  {
   "cell_type": "code",
   "execution_count": 53,
   "id": "3effde8e",
   "metadata": {},
   "outputs": [],
   "source": [
    "# Function to build and tune a model using GridSearchCV\n",
    "def build_and_tune_model(model, param_grid, X, y):\n",
    "\n",
    "    grid_search = GridSearchCV(\n",
    "        model, \n",
    "        param_grid, \n",
    "        cv=5, \n",
    "        scoring='neg_brier_score', \n",
    "        n_jobs=-1\n",
    "    )\n",
    "\n",
    "    grid_search.fit(X, y)\n",
    "    print(\"Best Parameters:\", grid_search.best_params_)\n",
    "    return grid_search\n"
   ]
  },
  {
   "cell_type": "code",
   "execution_count": 54,
   "id": "4d8ec117",
   "metadata": {},
   "outputs": [
    {
     "name": "stdout",
     "output_type": "stream",
     "text": [
      "Best Parameters: {'C': 0.1, 'penalty': 'l1', 'solver': 'saga'}\n"
     ]
    }
   ],
   "source": [
    "# Train and tune a Logistic Regression model\n",
    "log_params = {\n",
    "    'C': [0.0001, 0.001, 0.01, 0.1, 1, 10, 100],\n",
    "    'penalty': ['l1', 'l2'], \n",
    "    'solver': ['liblinear', 'saga']\n",
    "    }\n",
    "\n",
    "grid_log = build_and_tune_model(log_reg, log_params, X_train, y_train)"
   ]
  },
  {
   "cell_type": "code",
   "execution_count": 55,
   "id": "52e84c00",
   "metadata": {},
   "outputs": [
    {
     "name": "stdout",
     "output_type": "stream",
     "text": [
      "Best Parameters: {'C': 10, 'gamma': 0.1, 'kernel': 'rbf'}\n"
     ]
    }
   ],
   "source": [
    "# Train and tune a Random Forest model\n",
    "svc_params = {\n",
    "    'C': [0.1, 1, 10],\n",
    "    'gamma': [0.001, 0.01, 0.1],\n",
    "    'kernel': ['rbf', 'linear']\n",
    "}\n",
    "\n",
    "grid_svc = build_and_tune_model(svc, svc_params, X_train_svc_3, y_train)"
   ]
  },
  {
   "cell_type": "code",
   "execution_count": 56,
   "id": "b966df04",
   "metadata": {},
   "outputs": [
    {
     "name": "stdout",
     "output_type": "stream",
     "text": [
      "Best Parameters: {'max_depth': 20, 'max_features': 'sqrt', 'min_samples_leaf': 1, 'min_samples_split': 2, 'n_estimators': 200}\n"
     ]
    }
   ],
   "source": [
    "# Train and tune an XGBoost model\n",
    "rand_for_params = {\n",
    "    'n_estimators': [100, 200, 300],\n",
    "    'max_depth': [None, 10, 20],\n",
    "    'min_samples_split': [2, 5],\n",
    "    'min_samples_leaf': [1, 2, 3],\n",
    "    'max_features': ['sqrt', 'log2'],\n",
    "}\n",
    "\n",
    "grid_rand_for = build_and_tune_model(rand_for, rand_for_params, X_train, y_train)"
   ]
  },
  {
   "cell_type": "code",
   "execution_count": 57,
   "id": "287ab8dd",
   "metadata": {},
   "outputs": [
    {
     "name": "stdout",
     "output_type": "stream",
     "text": [
      "Fitting 5 folds for each of 50 candidates, totalling 250 fits\n"
     ]
    },
    {
     "data": {
      "text/html": [
       "<style>#sk-container-id-1 {\n",
       "  /* Definition of color scheme common for light and dark mode */\n",
       "  --sklearn-color-text: #000;\n",
       "  --sklearn-color-text-muted: #666;\n",
       "  --sklearn-color-line: gray;\n",
       "  /* Definition of color scheme for unfitted estimators */\n",
       "  --sklearn-color-unfitted-level-0: #fff5e6;\n",
       "  --sklearn-color-unfitted-level-1: #f6e4d2;\n",
       "  --sklearn-color-unfitted-level-2: #ffe0b3;\n",
       "  --sklearn-color-unfitted-level-3: chocolate;\n",
       "  /* Definition of color scheme for fitted estimators */\n",
       "  --sklearn-color-fitted-level-0: #f0f8ff;\n",
       "  --sklearn-color-fitted-level-1: #d4ebff;\n",
       "  --sklearn-color-fitted-level-2: #b3dbfd;\n",
       "  --sklearn-color-fitted-level-3: cornflowerblue;\n",
       "\n",
       "  /* Specific color for light theme */\n",
       "  --sklearn-color-text-on-default-background: var(--sg-text-color, var(--theme-code-foreground, var(--jp-content-font-color1, black)));\n",
       "  --sklearn-color-background: var(--sg-background-color, var(--theme-background, var(--jp-layout-color0, white)));\n",
       "  --sklearn-color-border-box: var(--sg-text-color, var(--theme-code-foreground, var(--jp-content-font-color1, black)));\n",
       "  --sklearn-color-icon: #696969;\n",
       "\n",
       "  @media (prefers-color-scheme: dark) {\n",
       "    /* Redefinition of color scheme for dark theme */\n",
       "    --sklearn-color-text-on-default-background: var(--sg-text-color, var(--theme-code-foreground, var(--jp-content-font-color1, white)));\n",
       "    --sklearn-color-background: var(--sg-background-color, var(--theme-background, var(--jp-layout-color0, #111)));\n",
       "    --sklearn-color-border-box: var(--sg-text-color, var(--theme-code-foreground, var(--jp-content-font-color1, white)));\n",
       "    --sklearn-color-icon: #878787;\n",
       "  }\n",
       "}\n",
       "\n",
       "#sk-container-id-1 {\n",
       "  color: var(--sklearn-color-text);\n",
       "}\n",
       "\n",
       "#sk-container-id-1 pre {\n",
       "  padding: 0;\n",
       "}\n",
       "\n",
       "#sk-container-id-1 input.sk-hidden--visually {\n",
       "  border: 0;\n",
       "  clip: rect(1px 1px 1px 1px);\n",
       "  clip: rect(1px, 1px, 1px, 1px);\n",
       "  height: 1px;\n",
       "  margin: -1px;\n",
       "  overflow: hidden;\n",
       "  padding: 0;\n",
       "  position: absolute;\n",
       "  width: 1px;\n",
       "}\n",
       "\n",
       "#sk-container-id-1 div.sk-dashed-wrapped {\n",
       "  border: 1px dashed var(--sklearn-color-line);\n",
       "  margin: 0 0.4em 0.5em 0.4em;\n",
       "  box-sizing: border-box;\n",
       "  padding-bottom: 0.4em;\n",
       "  background-color: var(--sklearn-color-background);\n",
       "}\n",
       "\n",
       "#sk-container-id-1 div.sk-container {\n",
       "  /* jupyter's `normalize.less` sets `[hidden] { display: none; }`\n",
       "     but bootstrap.min.css set `[hidden] { display: none !important; }`\n",
       "     so we also need the `!important` here to be able to override the\n",
       "     default hidden behavior on the sphinx rendered scikit-learn.org.\n",
       "     See: https://github.com/scikit-learn/scikit-learn/issues/21755 */\n",
       "  display: inline-block !important;\n",
       "  position: relative;\n",
       "}\n",
       "\n",
       "#sk-container-id-1 div.sk-text-repr-fallback {\n",
       "  display: none;\n",
       "}\n",
       "\n",
       "div.sk-parallel-item,\n",
       "div.sk-serial,\n",
       "div.sk-item {\n",
       "  /* draw centered vertical line to link estimators */\n",
       "  background-image: linear-gradient(var(--sklearn-color-text-on-default-background), var(--sklearn-color-text-on-default-background));\n",
       "  background-size: 2px 100%;\n",
       "  background-repeat: no-repeat;\n",
       "  background-position: center center;\n",
       "}\n",
       "\n",
       "/* Parallel-specific style estimator block */\n",
       "\n",
       "#sk-container-id-1 div.sk-parallel-item::after {\n",
       "  content: \"\";\n",
       "  width: 100%;\n",
       "  border-bottom: 2px solid var(--sklearn-color-text-on-default-background);\n",
       "  flex-grow: 1;\n",
       "}\n",
       "\n",
       "#sk-container-id-1 div.sk-parallel {\n",
       "  display: flex;\n",
       "  align-items: stretch;\n",
       "  justify-content: center;\n",
       "  background-color: var(--sklearn-color-background);\n",
       "  position: relative;\n",
       "}\n",
       "\n",
       "#sk-container-id-1 div.sk-parallel-item {\n",
       "  display: flex;\n",
       "  flex-direction: column;\n",
       "}\n",
       "\n",
       "#sk-container-id-1 div.sk-parallel-item:first-child::after {\n",
       "  align-self: flex-end;\n",
       "  width: 50%;\n",
       "}\n",
       "\n",
       "#sk-container-id-1 div.sk-parallel-item:last-child::after {\n",
       "  align-self: flex-start;\n",
       "  width: 50%;\n",
       "}\n",
       "\n",
       "#sk-container-id-1 div.sk-parallel-item:only-child::after {\n",
       "  width: 0;\n",
       "}\n",
       "\n",
       "/* Serial-specific style estimator block */\n",
       "\n",
       "#sk-container-id-1 div.sk-serial {\n",
       "  display: flex;\n",
       "  flex-direction: column;\n",
       "  align-items: center;\n",
       "  background-color: var(--sklearn-color-background);\n",
       "  padding-right: 1em;\n",
       "  padding-left: 1em;\n",
       "}\n",
       "\n",
       "\n",
       "/* Toggleable style: style used for estimator/Pipeline/ColumnTransformer box that is\n",
       "clickable and can be expanded/collapsed.\n",
       "- Pipeline and ColumnTransformer use this feature and define the default style\n",
       "- Estimators will overwrite some part of the style using the `sk-estimator` class\n",
       "*/\n",
       "\n",
       "/* Pipeline and ColumnTransformer style (default) */\n",
       "\n",
       "#sk-container-id-1 div.sk-toggleable {\n",
       "  /* Default theme specific background. It is overwritten whether we have a\n",
       "  specific estimator or a Pipeline/ColumnTransformer */\n",
       "  background-color: var(--sklearn-color-background);\n",
       "}\n",
       "\n",
       "/* Toggleable label */\n",
       "#sk-container-id-1 label.sk-toggleable__label {\n",
       "  cursor: pointer;\n",
       "  display: flex;\n",
       "  width: 100%;\n",
       "  margin-bottom: 0;\n",
       "  padding: 0.5em;\n",
       "  box-sizing: border-box;\n",
       "  text-align: center;\n",
       "  align-items: start;\n",
       "  justify-content: space-between;\n",
       "  gap: 0.5em;\n",
       "}\n",
       "\n",
       "#sk-container-id-1 label.sk-toggleable__label .caption {\n",
       "  font-size: 0.6rem;\n",
       "  font-weight: lighter;\n",
       "  color: var(--sklearn-color-text-muted);\n",
       "}\n",
       "\n",
       "#sk-container-id-1 label.sk-toggleable__label-arrow:before {\n",
       "  /* Arrow on the left of the label */\n",
       "  content: \"▸\";\n",
       "  float: left;\n",
       "  margin-right: 0.25em;\n",
       "  color: var(--sklearn-color-icon);\n",
       "}\n",
       "\n",
       "#sk-container-id-1 label.sk-toggleable__label-arrow:hover:before {\n",
       "  color: var(--sklearn-color-text);\n",
       "}\n",
       "\n",
       "/* Toggleable content - dropdown */\n",
       "\n",
       "#sk-container-id-1 div.sk-toggleable__content {\n",
       "  display: none;\n",
       "  text-align: left;\n",
       "  /* unfitted */\n",
       "  background-color: var(--sklearn-color-unfitted-level-0);\n",
       "}\n",
       "\n",
       "#sk-container-id-1 div.sk-toggleable__content.fitted {\n",
       "  /* fitted */\n",
       "  background-color: var(--sklearn-color-fitted-level-0);\n",
       "}\n",
       "\n",
       "#sk-container-id-1 div.sk-toggleable__content pre {\n",
       "  margin: 0.2em;\n",
       "  border-radius: 0.25em;\n",
       "  color: var(--sklearn-color-text);\n",
       "  /* unfitted */\n",
       "  background-color: var(--sklearn-color-unfitted-level-0);\n",
       "}\n",
       "\n",
       "#sk-container-id-1 div.sk-toggleable__content.fitted pre {\n",
       "  /* unfitted */\n",
       "  background-color: var(--sklearn-color-fitted-level-0);\n",
       "}\n",
       "\n",
       "#sk-container-id-1 input.sk-toggleable__control:checked~div.sk-toggleable__content {\n",
       "  /* Expand drop-down */\n",
       "  display: block;\n",
       "  width: 100%;\n",
       "  overflow: visible;\n",
       "}\n",
       "\n",
       "#sk-container-id-1 input.sk-toggleable__control:checked~label.sk-toggleable__label-arrow:before {\n",
       "  content: \"▾\";\n",
       "}\n",
       "\n",
       "/* Pipeline/ColumnTransformer-specific style */\n",
       "\n",
       "#sk-container-id-1 div.sk-label input.sk-toggleable__control:checked~label.sk-toggleable__label {\n",
       "  color: var(--sklearn-color-text);\n",
       "  background-color: var(--sklearn-color-unfitted-level-2);\n",
       "}\n",
       "\n",
       "#sk-container-id-1 div.sk-label.fitted input.sk-toggleable__control:checked~label.sk-toggleable__label {\n",
       "  background-color: var(--sklearn-color-fitted-level-2);\n",
       "}\n",
       "\n",
       "/* Estimator-specific style */\n",
       "\n",
       "/* Colorize estimator box */\n",
       "#sk-container-id-1 div.sk-estimator input.sk-toggleable__control:checked~label.sk-toggleable__label {\n",
       "  /* unfitted */\n",
       "  background-color: var(--sklearn-color-unfitted-level-2);\n",
       "}\n",
       "\n",
       "#sk-container-id-1 div.sk-estimator.fitted input.sk-toggleable__control:checked~label.sk-toggleable__label {\n",
       "  /* fitted */\n",
       "  background-color: var(--sklearn-color-fitted-level-2);\n",
       "}\n",
       "\n",
       "#sk-container-id-1 div.sk-label label.sk-toggleable__label,\n",
       "#sk-container-id-1 div.sk-label label {\n",
       "  /* The background is the default theme color */\n",
       "  color: var(--sklearn-color-text-on-default-background);\n",
       "}\n",
       "\n",
       "/* On hover, darken the color of the background */\n",
       "#sk-container-id-1 div.sk-label:hover label.sk-toggleable__label {\n",
       "  color: var(--sklearn-color-text);\n",
       "  background-color: var(--sklearn-color-unfitted-level-2);\n",
       "}\n",
       "\n",
       "/* Label box, darken color on hover, fitted */\n",
       "#sk-container-id-1 div.sk-label.fitted:hover label.sk-toggleable__label.fitted {\n",
       "  color: var(--sklearn-color-text);\n",
       "  background-color: var(--sklearn-color-fitted-level-2);\n",
       "}\n",
       "\n",
       "/* Estimator label */\n",
       "\n",
       "#sk-container-id-1 div.sk-label label {\n",
       "  font-family: monospace;\n",
       "  font-weight: bold;\n",
       "  display: inline-block;\n",
       "  line-height: 1.2em;\n",
       "}\n",
       "\n",
       "#sk-container-id-1 div.sk-label-container {\n",
       "  text-align: center;\n",
       "}\n",
       "\n",
       "/* Estimator-specific */\n",
       "#sk-container-id-1 div.sk-estimator {\n",
       "  font-family: monospace;\n",
       "  border: 1px dotted var(--sklearn-color-border-box);\n",
       "  border-radius: 0.25em;\n",
       "  box-sizing: border-box;\n",
       "  margin-bottom: 0.5em;\n",
       "  /* unfitted */\n",
       "  background-color: var(--sklearn-color-unfitted-level-0);\n",
       "}\n",
       "\n",
       "#sk-container-id-1 div.sk-estimator.fitted {\n",
       "  /* fitted */\n",
       "  background-color: var(--sklearn-color-fitted-level-0);\n",
       "}\n",
       "\n",
       "/* on hover */\n",
       "#sk-container-id-1 div.sk-estimator:hover {\n",
       "  /* unfitted */\n",
       "  background-color: var(--sklearn-color-unfitted-level-2);\n",
       "}\n",
       "\n",
       "#sk-container-id-1 div.sk-estimator.fitted:hover {\n",
       "  /* fitted */\n",
       "  background-color: var(--sklearn-color-fitted-level-2);\n",
       "}\n",
       "\n",
       "/* Specification for estimator info (e.g. \"i\" and \"?\") */\n",
       "\n",
       "/* Common style for \"i\" and \"?\" */\n",
       "\n",
       ".sk-estimator-doc-link,\n",
       "a:link.sk-estimator-doc-link,\n",
       "a:visited.sk-estimator-doc-link {\n",
       "  float: right;\n",
       "  font-size: smaller;\n",
       "  line-height: 1em;\n",
       "  font-family: monospace;\n",
       "  background-color: var(--sklearn-color-background);\n",
       "  border-radius: 1em;\n",
       "  height: 1em;\n",
       "  width: 1em;\n",
       "  text-decoration: none !important;\n",
       "  margin-left: 0.5em;\n",
       "  text-align: center;\n",
       "  /* unfitted */\n",
       "  border: var(--sklearn-color-unfitted-level-1) 1pt solid;\n",
       "  color: var(--sklearn-color-unfitted-level-1);\n",
       "}\n",
       "\n",
       ".sk-estimator-doc-link.fitted,\n",
       "a:link.sk-estimator-doc-link.fitted,\n",
       "a:visited.sk-estimator-doc-link.fitted {\n",
       "  /* fitted */\n",
       "  border: var(--sklearn-color-fitted-level-1) 1pt solid;\n",
       "  color: var(--sklearn-color-fitted-level-1);\n",
       "}\n",
       "\n",
       "/* On hover */\n",
       "div.sk-estimator:hover .sk-estimator-doc-link:hover,\n",
       ".sk-estimator-doc-link:hover,\n",
       "div.sk-label-container:hover .sk-estimator-doc-link:hover,\n",
       ".sk-estimator-doc-link:hover {\n",
       "  /* unfitted */\n",
       "  background-color: var(--sklearn-color-unfitted-level-3);\n",
       "  color: var(--sklearn-color-background);\n",
       "  text-decoration: none;\n",
       "}\n",
       "\n",
       "div.sk-estimator.fitted:hover .sk-estimator-doc-link.fitted:hover,\n",
       ".sk-estimator-doc-link.fitted:hover,\n",
       "div.sk-label-container:hover .sk-estimator-doc-link.fitted:hover,\n",
       ".sk-estimator-doc-link.fitted:hover {\n",
       "  /* fitted */\n",
       "  background-color: var(--sklearn-color-fitted-level-3);\n",
       "  color: var(--sklearn-color-background);\n",
       "  text-decoration: none;\n",
       "}\n",
       "\n",
       "/* Span, style for the box shown on hovering the info icon */\n",
       ".sk-estimator-doc-link span {\n",
       "  display: none;\n",
       "  z-index: 9999;\n",
       "  position: relative;\n",
       "  font-weight: normal;\n",
       "  right: .2ex;\n",
       "  padding: .5ex;\n",
       "  margin: .5ex;\n",
       "  width: min-content;\n",
       "  min-width: 20ex;\n",
       "  max-width: 50ex;\n",
       "  color: var(--sklearn-color-text);\n",
       "  box-shadow: 2pt 2pt 4pt #999;\n",
       "  /* unfitted */\n",
       "  background: var(--sklearn-color-unfitted-level-0);\n",
       "  border: .5pt solid var(--sklearn-color-unfitted-level-3);\n",
       "}\n",
       "\n",
       ".sk-estimator-doc-link.fitted span {\n",
       "  /* fitted */\n",
       "  background: var(--sklearn-color-fitted-level-0);\n",
       "  border: var(--sklearn-color-fitted-level-3);\n",
       "}\n",
       "\n",
       ".sk-estimator-doc-link:hover span {\n",
       "  display: block;\n",
       "}\n",
       "\n",
       "/* \"?\"-specific style due to the `<a>` HTML tag */\n",
       "\n",
       "#sk-container-id-1 a.estimator_doc_link {\n",
       "  float: right;\n",
       "  font-size: 1rem;\n",
       "  line-height: 1em;\n",
       "  font-family: monospace;\n",
       "  background-color: var(--sklearn-color-background);\n",
       "  border-radius: 1rem;\n",
       "  height: 1rem;\n",
       "  width: 1rem;\n",
       "  text-decoration: none;\n",
       "  /* unfitted */\n",
       "  color: var(--sklearn-color-unfitted-level-1);\n",
       "  border: var(--sklearn-color-unfitted-level-1) 1pt solid;\n",
       "}\n",
       "\n",
       "#sk-container-id-1 a.estimator_doc_link.fitted {\n",
       "  /* fitted */\n",
       "  border: var(--sklearn-color-fitted-level-1) 1pt solid;\n",
       "  color: var(--sklearn-color-fitted-level-1);\n",
       "}\n",
       "\n",
       "/* On hover */\n",
       "#sk-container-id-1 a.estimator_doc_link:hover {\n",
       "  /* unfitted */\n",
       "  background-color: var(--sklearn-color-unfitted-level-3);\n",
       "  color: var(--sklearn-color-background);\n",
       "  text-decoration: none;\n",
       "}\n",
       "\n",
       "#sk-container-id-1 a.estimator_doc_link.fitted:hover {\n",
       "  /* fitted */\n",
       "  background-color: var(--sklearn-color-fitted-level-3);\n",
       "}\n",
       "\n",
       ".estimator-table summary {\n",
       "    padding: .5rem;\n",
       "    font-family: monospace;\n",
       "    cursor: pointer;\n",
       "}\n",
       "\n",
       ".estimator-table details[open] {\n",
       "    padding-left: 0.1rem;\n",
       "    padding-right: 0.1rem;\n",
       "    padding-bottom: 0.3rem;\n",
       "}\n",
       "\n",
       ".estimator-table .parameters-table {\n",
       "    margin-left: auto !important;\n",
       "    margin-right: auto !important;\n",
       "}\n",
       "\n",
       ".estimator-table .parameters-table tr:nth-child(odd) {\n",
       "    background-color: #fff;\n",
       "}\n",
       "\n",
       ".estimator-table .parameters-table tr:nth-child(even) {\n",
       "    background-color: #f6f6f6;\n",
       "}\n",
       "\n",
       ".estimator-table .parameters-table tr:hover {\n",
       "    background-color: #e0e0e0;\n",
       "}\n",
       "\n",
       ".estimator-table table td {\n",
       "    border: 1px solid rgba(106, 105, 104, 0.232);\n",
       "}\n",
       "\n",
       ".user-set td {\n",
       "    color:rgb(255, 94, 0);\n",
       "    text-align: left;\n",
       "}\n",
       "\n",
       ".user-set td.value pre {\n",
       "    color:rgb(255, 94, 0) !important;\n",
       "    background-color: transparent !important;\n",
       "}\n",
       "\n",
       ".default td {\n",
       "    color: black;\n",
       "    text-align: left;\n",
       "}\n",
       "\n",
       ".user-set td i,\n",
       ".default td i {\n",
       "    color: black;\n",
       "}\n",
       "\n",
       ".copy-paste-icon {\n",
       "    background-image: url(data:image/svg+xml;base64,PHN2ZyB4bWxucz0iaHR0cDovL3d3dy53My5vcmcvMjAwMC9zdmciIHZpZXdCb3g9IjAgMCA0NDggNTEyIj48IS0tIUZvbnQgQXdlc29tZSBGcmVlIDYuNy4yIGJ5IEBmb250YXdlc29tZSAtIGh0dHBzOi8vZm9udGF3ZXNvbWUuY29tIExpY2Vuc2UgLSBodHRwczovL2ZvbnRhd2Vzb21lLmNvbS9saWNlbnNlL2ZyZWUgQ29weXJpZ2h0IDIwMjUgRm9udGljb25zLCBJbmMuLS0+PHBhdGggZD0iTTIwOCAwTDMzMi4xIDBjMTIuNyAwIDI0LjkgNS4xIDMzLjkgMTQuMWw2Ny45IDY3LjljOSA5IDE0LjEgMjEuMiAxNC4xIDMzLjlMNDQ4IDMzNmMwIDI2LjUtMjEuNSA0OC00OCA0OGwtMTkyIDBjLTI2LjUgMC00OC0yMS41LTQ4LTQ4bDAtMjg4YzAtMjYuNSAyMS41LTQ4IDQ4LTQ4ek00OCAxMjhsODAgMCAwIDY0LTY0IDAgMCAyNTYgMTkyIDAgMC0zMiA2NCAwIDAgNDhjMCAyNi41LTIxLjUgNDgtNDggNDhMNDggNTEyYy0yNi41IDAtNDgtMjEuNS00OC00OEwwIDE3NmMwLTI2LjUgMjEuNS00OCA0OC00OHoiLz48L3N2Zz4=);\n",
       "    background-repeat: no-repeat;\n",
       "    background-size: 14px 14px;\n",
       "    background-position: 0;\n",
       "    display: inline-block;\n",
       "    width: 14px;\n",
       "    height: 14px;\n",
       "    cursor: pointer;\n",
       "}\n",
       "</style><body><div id=\"sk-container-id-1\" class=\"sk-top-container\"><div class=\"sk-text-repr-fallback\"><pre>RandomizedSearchCV(cv=5,\n",
       "                   estimator=XGBClassifier(base_score=None, booster=None,\n",
       "                                           callbacks=None,\n",
       "                                           colsample_bylevel=None,\n",
       "                                           colsample_bynode=None,\n",
       "                                           colsample_bytree=None, device=None,\n",
       "                                           early_stopping_rounds=None,\n",
       "                                           enable_categorical=False,\n",
       "                                           eval_metric=&#x27;logloss&#x27;,\n",
       "                                           feature_types=None,\n",
       "                                           feature_weights=None, gamma=None,\n",
       "                                           grow_policy=None,\n",
       "                                           importance_type=None,\n",
       "                                           interaction_cons...\n",
       "                                           n_estimators=100, n_jobs=None,\n",
       "                                           num_parallel_tree=None, ...),\n",
       "                   n_iter=50, n_jobs=-1,\n",
       "                   param_distributions={&#x27;colsample_bytree&#x27;: [0.6, 0.8, 1.0],\n",
       "                                        &#x27;gamma&#x27;: [0, 0.1, 0.3],\n",
       "                                        &#x27;learning_rate&#x27;: [0.01, 0.1, 0.2],\n",
       "                                        &#x27;max_depth&#x27;: [3, 5, 7, 10],\n",
       "                                        &#x27;min_child_weight&#x27;: [1, 3, 5],\n",
       "                                        &#x27;n_estimators&#x27;: [100, 300, 500],\n",
       "                                        &#x27;reg_alpha&#x27;: [0, 0.1, 1],\n",
       "                                        &#x27;reg_lambda&#x27;: [1, 1.5, 2],\n",
       "                                        &#x27;subsample&#x27;: [0.6, 0.8, 1.0]},\n",
       "                   random_state=42, scoring=&#x27;accuracy&#x27;, verbose=1)</pre><b>In a Jupyter environment, please rerun this cell to show the HTML representation or trust the notebook. <br />On GitHub, the HTML representation is unable to render, please try loading this page with nbviewer.org.</b></div><div class=\"sk-container\" hidden><div class=\"sk-item sk-dashed-wrapped\"><div class=\"sk-label-container\"><div class=\"sk-label fitted sk-toggleable\"><input class=\"sk-toggleable__control sk-hidden--visually\" id=\"sk-estimator-id-1\" type=\"checkbox\" ><label for=\"sk-estimator-id-1\" class=\"sk-toggleable__label fitted sk-toggleable__label-arrow\"><div><div>RandomizedSearchCV</div></div><div><a class=\"sk-estimator-doc-link fitted\" rel=\"noreferrer\" target=\"_blank\" href=\"https://scikit-learn.org/1.7/modules/generated/sklearn.model_selection.RandomizedSearchCV.html\">?<span>Documentation for RandomizedSearchCV</span></a><span class=\"sk-estimator-doc-link fitted\">i<span>Fitted</span></span></div></label><div class=\"sk-toggleable__content fitted\" data-param-prefix=\"\">\n",
       "        <div class=\"estimator-table\">\n",
       "            <details>\n",
       "                <summary>Parameters</summary>\n",
       "                <table class=\"parameters-table\">\n",
       "                  <tbody>\n",
       "                    \n",
       "        <tr class=\"user-set\">\n",
       "            <td><i class=\"copy-paste-icon\"\n",
       "                 onclick=\"copyToClipboard('estimator',\n",
       "                          this.parentElement.nextElementSibling)\"\n",
       "            ></i></td>\n",
       "            <td class=\"param\">estimator&nbsp;</td>\n",
       "            <td class=\"value\">XGBClassifier...ree=None, ...)</td>\n",
       "        </tr>\n",
       "    \n",
       "\n",
       "        <tr class=\"user-set\">\n",
       "            <td><i class=\"copy-paste-icon\"\n",
       "                 onclick=\"copyToClipboard('param_distributions',\n",
       "                          this.parentElement.nextElementSibling)\"\n",
       "            ></i></td>\n",
       "            <td class=\"param\">param_distributions&nbsp;</td>\n",
       "            <td class=\"value\">{&#x27;colsample_bytree&#x27;: [0.6, 0.8, ...], &#x27;gamma&#x27;: [0, 0.1, ...], &#x27;learning_rate&#x27;: [0.01, 0.1, ...], &#x27;max_depth&#x27;: [3, 5, ...], ...}</td>\n",
       "        </tr>\n",
       "    \n",
       "\n",
       "        <tr class=\"user-set\">\n",
       "            <td><i class=\"copy-paste-icon\"\n",
       "                 onclick=\"copyToClipboard('n_iter',\n",
       "                          this.parentElement.nextElementSibling)\"\n",
       "            ></i></td>\n",
       "            <td class=\"param\">n_iter&nbsp;</td>\n",
       "            <td class=\"value\">50</td>\n",
       "        </tr>\n",
       "    \n",
       "\n",
       "        <tr class=\"user-set\">\n",
       "            <td><i class=\"copy-paste-icon\"\n",
       "                 onclick=\"copyToClipboard('scoring',\n",
       "                          this.parentElement.nextElementSibling)\"\n",
       "            ></i></td>\n",
       "            <td class=\"param\">scoring&nbsp;</td>\n",
       "            <td class=\"value\">&#x27;accuracy&#x27;</td>\n",
       "        </tr>\n",
       "    \n",
       "\n",
       "        <tr class=\"user-set\">\n",
       "            <td><i class=\"copy-paste-icon\"\n",
       "                 onclick=\"copyToClipboard('n_jobs',\n",
       "                          this.parentElement.nextElementSibling)\"\n",
       "            ></i></td>\n",
       "            <td class=\"param\">n_jobs&nbsp;</td>\n",
       "            <td class=\"value\">-1</td>\n",
       "        </tr>\n",
       "    \n",
       "\n",
       "        <tr class=\"default\">\n",
       "            <td><i class=\"copy-paste-icon\"\n",
       "                 onclick=\"copyToClipboard('refit',\n",
       "                          this.parentElement.nextElementSibling)\"\n",
       "            ></i></td>\n",
       "            <td class=\"param\">refit&nbsp;</td>\n",
       "            <td class=\"value\">True</td>\n",
       "        </tr>\n",
       "    \n",
       "\n",
       "        <tr class=\"user-set\">\n",
       "            <td><i class=\"copy-paste-icon\"\n",
       "                 onclick=\"copyToClipboard('cv',\n",
       "                          this.parentElement.nextElementSibling)\"\n",
       "            ></i></td>\n",
       "            <td class=\"param\">cv&nbsp;</td>\n",
       "            <td class=\"value\">5</td>\n",
       "        </tr>\n",
       "    \n",
       "\n",
       "        <tr class=\"user-set\">\n",
       "            <td><i class=\"copy-paste-icon\"\n",
       "                 onclick=\"copyToClipboard('verbose',\n",
       "                          this.parentElement.nextElementSibling)\"\n",
       "            ></i></td>\n",
       "            <td class=\"param\">verbose&nbsp;</td>\n",
       "            <td class=\"value\">1</td>\n",
       "        </tr>\n",
       "    \n",
       "\n",
       "        <tr class=\"default\">\n",
       "            <td><i class=\"copy-paste-icon\"\n",
       "                 onclick=\"copyToClipboard('pre_dispatch',\n",
       "                          this.parentElement.nextElementSibling)\"\n",
       "            ></i></td>\n",
       "            <td class=\"param\">pre_dispatch&nbsp;</td>\n",
       "            <td class=\"value\">&#x27;2*n_jobs&#x27;</td>\n",
       "        </tr>\n",
       "    \n",
       "\n",
       "        <tr class=\"user-set\">\n",
       "            <td><i class=\"copy-paste-icon\"\n",
       "                 onclick=\"copyToClipboard('random_state',\n",
       "                          this.parentElement.nextElementSibling)\"\n",
       "            ></i></td>\n",
       "            <td class=\"param\">random_state&nbsp;</td>\n",
       "            <td class=\"value\">42</td>\n",
       "        </tr>\n",
       "    \n",
       "\n",
       "        <tr class=\"default\">\n",
       "            <td><i class=\"copy-paste-icon\"\n",
       "                 onclick=\"copyToClipboard('error_score',\n",
       "                          this.parentElement.nextElementSibling)\"\n",
       "            ></i></td>\n",
       "            <td class=\"param\">error_score&nbsp;</td>\n",
       "            <td class=\"value\">nan</td>\n",
       "        </tr>\n",
       "    \n",
       "\n",
       "        <tr class=\"default\">\n",
       "            <td><i class=\"copy-paste-icon\"\n",
       "                 onclick=\"copyToClipboard('return_train_score',\n",
       "                          this.parentElement.nextElementSibling)\"\n",
       "            ></i></td>\n",
       "            <td class=\"param\">return_train_score&nbsp;</td>\n",
       "            <td class=\"value\">False</td>\n",
       "        </tr>\n",
       "    \n",
       "                  </tbody>\n",
       "                </table>\n",
       "            </details>\n",
       "        </div>\n",
       "    </div></div></div><div class=\"sk-parallel\"><div class=\"sk-parallel-item\"><div class=\"sk-item\"><div class=\"sk-label-container\"><div class=\"sk-label fitted sk-toggleable\"><input class=\"sk-toggleable__control sk-hidden--visually\" id=\"sk-estimator-id-2\" type=\"checkbox\" ><label for=\"sk-estimator-id-2\" class=\"sk-toggleable__label fitted sk-toggleable__label-arrow\"><div><div>best_estimator_: XGBClassifier</div></div></label><div class=\"sk-toggleable__content fitted\" data-param-prefix=\"best_estimator___\"><pre>XGBClassifier(base_score=None, booster=None, callbacks=None,\n",
       "              colsample_bylevel=None, colsample_bynode=None,\n",
       "              colsample_bytree=0.6, device=None, early_stopping_rounds=None,\n",
       "              enable_categorical=False, eval_metric=&#x27;logloss&#x27;,\n",
       "              feature_types=None, feature_weights=None, gamma=0,\n",
       "              grow_policy=None, importance_type=None,\n",
       "              interaction_constraints=None, learning_rate=0.01, max_bin=None,\n",
       "              max_cat_threshold=None, max_cat_to_onehot=None,\n",
       "              max_delta_step=None, max_depth=3, max_leaves=None,\n",
       "              min_child_weight=5, missing=nan, monotone_constraints=None,\n",
       "              multi_strategy=None, n_estimators=300, n_jobs=None,\n",
       "              num_parallel_tree=None, ...)</pre></div></div></div><div class=\"sk-serial\"><div class=\"sk-item\"><div class=\"sk-estimator fitted sk-toggleable\"><input class=\"sk-toggleable__control sk-hidden--visually\" id=\"sk-estimator-id-3\" type=\"checkbox\" ><label for=\"sk-estimator-id-3\" class=\"sk-toggleable__label fitted sk-toggleable__label-arrow\"><div><div>XGBClassifier</div></div><div><a class=\"sk-estimator-doc-link fitted\" rel=\"noreferrer\" target=\"_blank\" href=\"https://xgboost.readthedocs.io/en/release_3.0.0/python/python_api.html#xgboost.XGBClassifier\">?<span>Documentation for XGBClassifier</span></a></div></label><div class=\"sk-toggleable__content fitted\" data-param-prefix=\"best_estimator___\">\n",
       "        <div class=\"estimator-table\">\n",
       "            <details>\n",
       "                <summary>Parameters</summary>\n",
       "                <table class=\"parameters-table\">\n",
       "                  <tbody>\n",
       "                    \n",
       "        <tr class=\"default\">\n",
       "            <td><i class=\"copy-paste-icon\"\n",
       "                 onclick=\"copyToClipboard('objective',\n",
       "                          this.parentElement.nextElementSibling)\"\n",
       "            ></i></td>\n",
       "            <td class=\"param\">objective&nbsp;</td>\n",
       "            <td class=\"value\">&#x27;binary:logistic&#x27;</td>\n",
       "        </tr>\n",
       "    \n",
       "\n",
       "        <tr class=\"user-set\">\n",
       "            <td><i class=\"copy-paste-icon\"\n",
       "                 onclick=\"copyToClipboard('base_score',\n",
       "                          this.parentElement.nextElementSibling)\"\n",
       "            ></i></td>\n",
       "            <td class=\"param\">base_score&nbsp;</td>\n",
       "            <td class=\"value\">None</td>\n",
       "        </tr>\n",
       "    \n",
       "\n",
       "        <tr class=\"user-set\">\n",
       "            <td><i class=\"copy-paste-icon\"\n",
       "                 onclick=\"copyToClipboard('booster',\n",
       "                          this.parentElement.nextElementSibling)\"\n",
       "            ></i></td>\n",
       "            <td class=\"param\">booster&nbsp;</td>\n",
       "            <td class=\"value\">None</td>\n",
       "        </tr>\n",
       "    \n",
       "\n",
       "        <tr class=\"user-set\">\n",
       "            <td><i class=\"copy-paste-icon\"\n",
       "                 onclick=\"copyToClipboard('callbacks',\n",
       "                          this.parentElement.nextElementSibling)\"\n",
       "            ></i></td>\n",
       "            <td class=\"param\">callbacks&nbsp;</td>\n",
       "            <td class=\"value\">None</td>\n",
       "        </tr>\n",
       "    \n",
       "\n",
       "        <tr class=\"user-set\">\n",
       "            <td><i class=\"copy-paste-icon\"\n",
       "                 onclick=\"copyToClipboard('colsample_bylevel',\n",
       "                          this.parentElement.nextElementSibling)\"\n",
       "            ></i></td>\n",
       "            <td class=\"param\">colsample_bylevel&nbsp;</td>\n",
       "            <td class=\"value\">None</td>\n",
       "        </tr>\n",
       "    \n",
       "\n",
       "        <tr class=\"user-set\">\n",
       "            <td><i class=\"copy-paste-icon\"\n",
       "                 onclick=\"copyToClipboard('colsample_bynode',\n",
       "                          this.parentElement.nextElementSibling)\"\n",
       "            ></i></td>\n",
       "            <td class=\"param\">colsample_bynode&nbsp;</td>\n",
       "            <td class=\"value\">None</td>\n",
       "        </tr>\n",
       "    \n",
       "\n",
       "        <tr class=\"user-set\">\n",
       "            <td><i class=\"copy-paste-icon\"\n",
       "                 onclick=\"copyToClipboard('colsample_bytree',\n",
       "                          this.parentElement.nextElementSibling)\"\n",
       "            ></i></td>\n",
       "            <td class=\"param\">colsample_bytree&nbsp;</td>\n",
       "            <td class=\"value\">0.6</td>\n",
       "        </tr>\n",
       "    \n",
       "\n",
       "        <tr class=\"user-set\">\n",
       "            <td><i class=\"copy-paste-icon\"\n",
       "                 onclick=\"copyToClipboard('device',\n",
       "                          this.parentElement.nextElementSibling)\"\n",
       "            ></i></td>\n",
       "            <td class=\"param\">device&nbsp;</td>\n",
       "            <td class=\"value\">None</td>\n",
       "        </tr>\n",
       "    \n",
       "\n",
       "        <tr class=\"user-set\">\n",
       "            <td><i class=\"copy-paste-icon\"\n",
       "                 onclick=\"copyToClipboard('early_stopping_rounds',\n",
       "                          this.parentElement.nextElementSibling)\"\n",
       "            ></i></td>\n",
       "            <td class=\"param\">early_stopping_rounds&nbsp;</td>\n",
       "            <td class=\"value\">None</td>\n",
       "        </tr>\n",
       "    \n",
       "\n",
       "        <tr class=\"user-set\">\n",
       "            <td><i class=\"copy-paste-icon\"\n",
       "                 onclick=\"copyToClipboard('enable_categorical',\n",
       "                          this.parentElement.nextElementSibling)\"\n",
       "            ></i></td>\n",
       "            <td class=\"param\">enable_categorical&nbsp;</td>\n",
       "            <td class=\"value\">False</td>\n",
       "        </tr>\n",
       "    \n",
       "\n",
       "        <tr class=\"user-set\">\n",
       "            <td><i class=\"copy-paste-icon\"\n",
       "                 onclick=\"copyToClipboard('eval_metric',\n",
       "                          this.parentElement.nextElementSibling)\"\n",
       "            ></i></td>\n",
       "            <td class=\"param\">eval_metric&nbsp;</td>\n",
       "            <td class=\"value\">&#x27;logloss&#x27;</td>\n",
       "        </tr>\n",
       "    \n",
       "\n",
       "        <tr class=\"user-set\">\n",
       "            <td><i class=\"copy-paste-icon\"\n",
       "                 onclick=\"copyToClipboard('feature_types',\n",
       "                          this.parentElement.nextElementSibling)\"\n",
       "            ></i></td>\n",
       "            <td class=\"param\">feature_types&nbsp;</td>\n",
       "            <td class=\"value\">None</td>\n",
       "        </tr>\n",
       "    \n",
       "\n",
       "        <tr class=\"user-set\">\n",
       "            <td><i class=\"copy-paste-icon\"\n",
       "                 onclick=\"copyToClipboard('feature_weights',\n",
       "                          this.parentElement.nextElementSibling)\"\n",
       "            ></i></td>\n",
       "            <td class=\"param\">feature_weights&nbsp;</td>\n",
       "            <td class=\"value\">None</td>\n",
       "        </tr>\n",
       "    \n",
       "\n",
       "        <tr class=\"user-set\">\n",
       "            <td><i class=\"copy-paste-icon\"\n",
       "                 onclick=\"copyToClipboard('gamma',\n",
       "                          this.parentElement.nextElementSibling)\"\n",
       "            ></i></td>\n",
       "            <td class=\"param\">gamma&nbsp;</td>\n",
       "            <td class=\"value\">0</td>\n",
       "        </tr>\n",
       "    \n",
       "\n",
       "        <tr class=\"user-set\">\n",
       "            <td><i class=\"copy-paste-icon\"\n",
       "                 onclick=\"copyToClipboard('grow_policy',\n",
       "                          this.parentElement.nextElementSibling)\"\n",
       "            ></i></td>\n",
       "            <td class=\"param\">grow_policy&nbsp;</td>\n",
       "            <td class=\"value\">None</td>\n",
       "        </tr>\n",
       "    \n",
       "\n",
       "        <tr class=\"user-set\">\n",
       "            <td><i class=\"copy-paste-icon\"\n",
       "                 onclick=\"copyToClipboard('importance_type',\n",
       "                          this.parentElement.nextElementSibling)\"\n",
       "            ></i></td>\n",
       "            <td class=\"param\">importance_type&nbsp;</td>\n",
       "            <td class=\"value\">None</td>\n",
       "        </tr>\n",
       "    \n",
       "\n",
       "        <tr class=\"user-set\">\n",
       "            <td><i class=\"copy-paste-icon\"\n",
       "                 onclick=\"copyToClipboard('interaction_constraints',\n",
       "                          this.parentElement.nextElementSibling)\"\n",
       "            ></i></td>\n",
       "            <td class=\"param\">interaction_constraints&nbsp;</td>\n",
       "            <td class=\"value\">None</td>\n",
       "        </tr>\n",
       "    \n",
       "\n",
       "        <tr class=\"user-set\">\n",
       "            <td><i class=\"copy-paste-icon\"\n",
       "                 onclick=\"copyToClipboard('learning_rate',\n",
       "                          this.parentElement.nextElementSibling)\"\n",
       "            ></i></td>\n",
       "            <td class=\"param\">learning_rate&nbsp;</td>\n",
       "            <td class=\"value\">0.01</td>\n",
       "        </tr>\n",
       "    \n",
       "\n",
       "        <tr class=\"user-set\">\n",
       "            <td><i class=\"copy-paste-icon\"\n",
       "                 onclick=\"copyToClipboard('max_bin',\n",
       "                          this.parentElement.nextElementSibling)\"\n",
       "            ></i></td>\n",
       "            <td class=\"param\">max_bin&nbsp;</td>\n",
       "            <td class=\"value\">None</td>\n",
       "        </tr>\n",
       "    \n",
       "\n",
       "        <tr class=\"user-set\">\n",
       "            <td><i class=\"copy-paste-icon\"\n",
       "                 onclick=\"copyToClipboard('max_cat_threshold',\n",
       "                          this.parentElement.nextElementSibling)\"\n",
       "            ></i></td>\n",
       "            <td class=\"param\">max_cat_threshold&nbsp;</td>\n",
       "            <td class=\"value\">None</td>\n",
       "        </tr>\n",
       "    \n",
       "\n",
       "        <tr class=\"user-set\">\n",
       "            <td><i class=\"copy-paste-icon\"\n",
       "                 onclick=\"copyToClipboard('max_cat_to_onehot',\n",
       "                          this.parentElement.nextElementSibling)\"\n",
       "            ></i></td>\n",
       "            <td class=\"param\">max_cat_to_onehot&nbsp;</td>\n",
       "            <td class=\"value\">None</td>\n",
       "        </tr>\n",
       "    \n",
       "\n",
       "        <tr class=\"user-set\">\n",
       "            <td><i class=\"copy-paste-icon\"\n",
       "                 onclick=\"copyToClipboard('max_delta_step',\n",
       "                          this.parentElement.nextElementSibling)\"\n",
       "            ></i></td>\n",
       "            <td class=\"param\">max_delta_step&nbsp;</td>\n",
       "            <td class=\"value\">None</td>\n",
       "        </tr>\n",
       "    \n",
       "\n",
       "        <tr class=\"user-set\">\n",
       "            <td><i class=\"copy-paste-icon\"\n",
       "                 onclick=\"copyToClipboard('max_depth',\n",
       "                          this.parentElement.nextElementSibling)\"\n",
       "            ></i></td>\n",
       "            <td class=\"param\">max_depth&nbsp;</td>\n",
       "            <td class=\"value\">3</td>\n",
       "        </tr>\n",
       "    \n",
       "\n",
       "        <tr class=\"user-set\">\n",
       "            <td><i class=\"copy-paste-icon\"\n",
       "                 onclick=\"copyToClipboard('max_leaves',\n",
       "                          this.parentElement.nextElementSibling)\"\n",
       "            ></i></td>\n",
       "            <td class=\"param\">max_leaves&nbsp;</td>\n",
       "            <td class=\"value\">None</td>\n",
       "        </tr>\n",
       "    \n",
       "\n",
       "        <tr class=\"user-set\">\n",
       "            <td><i class=\"copy-paste-icon\"\n",
       "                 onclick=\"copyToClipboard('min_child_weight',\n",
       "                          this.parentElement.nextElementSibling)\"\n",
       "            ></i></td>\n",
       "            <td class=\"param\">min_child_weight&nbsp;</td>\n",
       "            <td class=\"value\">5</td>\n",
       "        </tr>\n",
       "    \n",
       "\n",
       "        <tr class=\"user-set\">\n",
       "            <td><i class=\"copy-paste-icon\"\n",
       "                 onclick=\"copyToClipboard('missing',\n",
       "                          this.parentElement.nextElementSibling)\"\n",
       "            ></i></td>\n",
       "            <td class=\"param\">missing&nbsp;</td>\n",
       "            <td class=\"value\">nan</td>\n",
       "        </tr>\n",
       "    \n",
       "\n",
       "        <tr class=\"user-set\">\n",
       "            <td><i class=\"copy-paste-icon\"\n",
       "                 onclick=\"copyToClipboard('monotone_constraints',\n",
       "                          this.parentElement.nextElementSibling)\"\n",
       "            ></i></td>\n",
       "            <td class=\"param\">monotone_constraints&nbsp;</td>\n",
       "            <td class=\"value\">None</td>\n",
       "        </tr>\n",
       "    \n",
       "\n",
       "        <tr class=\"user-set\">\n",
       "            <td><i class=\"copy-paste-icon\"\n",
       "                 onclick=\"copyToClipboard('multi_strategy',\n",
       "                          this.parentElement.nextElementSibling)\"\n",
       "            ></i></td>\n",
       "            <td class=\"param\">multi_strategy&nbsp;</td>\n",
       "            <td class=\"value\">None</td>\n",
       "        </tr>\n",
       "    \n",
       "\n",
       "        <tr class=\"user-set\">\n",
       "            <td><i class=\"copy-paste-icon\"\n",
       "                 onclick=\"copyToClipboard('n_estimators',\n",
       "                          this.parentElement.nextElementSibling)\"\n",
       "            ></i></td>\n",
       "            <td class=\"param\">n_estimators&nbsp;</td>\n",
       "            <td class=\"value\">300</td>\n",
       "        </tr>\n",
       "    \n",
       "\n",
       "        <tr class=\"user-set\">\n",
       "            <td><i class=\"copy-paste-icon\"\n",
       "                 onclick=\"copyToClipboard('n_jobs',\n",
       "                          this.parentElement.nextElementSibling)\"\n",
       "            ></i></td>\n",
       "            <td class=\"param\">n_jobs&nbsp;</td>\n",
       "            <td class=\"value\">None</td>\n",
       "        </tr>\n",
       "    \n",
       "\n",
       "        <tr class=\"user-set\">\n",
       "            <td><i class=\"copy-paste-icon\"\n",
       "                 onclick=\"copyToClipboard('num_parallel_tree',\n",
       "                          this.parentElement.nextElementSibling)\"\n",
       "            ></i></td>\n",
       "            <td class=\"param\">num_parallel_tree&nbsp;</td>\n",
       "            <td class=\"value\">None</td>\n",
       "        </tr>\n",
       "    \n",
       "\n",
       "        <tr class=\"user-set\">\n",
       "            <td><i class=\"copy-paste-icon\"\n",
       "                 onclick=\"copyToClipboard('random_state',\n",
       "                          this.parentElement.nextElementSibling)\"\n",
       "            ></i></td>\n",
       "            <td class=\"param\">random_state&nbsp;</td>\n",
       "            <td class=\"value\">None</td>\n",
       "        </tr>\n",
       "    \n",
       "\n",
       "        <tr class=\"user-set\">\n",
       "            <td><i class=\"copy-paste-icon\"\n",
       "                 onclick=\"copyToClipboard('reg_alpha',\n",
       "                          this.parentElement.nextElementSibling)\"\n",
       "            ></i></td>\n",
       "            <td class=\"param\">reg_alpha&nbsp;</td>\n",
       "            <td class=\"value\">0</td>\n",
       "        </tr>\n",
       "    \n",
       "\n",
       "        <tr class=\"user-set\">\n",
       "            <td><i class=\"copy-paste-icon\"\n",
       "                 onclick=\"copyToClipboard('reg_lambda',\n",
       "                          this.parentElement.nextElementSibling)\"\n",
       "            ></i></td>\n",
       "            <td class=\"param\">reg_lambda&nbsp;</td>\n",
       "            <td class=\"value\">1</td>\n",
       "        </tr>\n",
       "    \n",
       "\n",
       "        <tr class=\"user-set\">\n",
       "            <td><i class=\"copy-paste-icon\"\n",
       "                 onclick=\"copyToClipboard('sampling_method',\n",
       "                          this.parentElement.nextElementSibling)\"\n",
       "            ></i></td>\n",
       "            <td class=\"param\">sampling_method&nbsp;</td>\n",
       "            <td class=\"value\">None</td>\n",
       "        </tr>\n",
       "    \n",
       "\n",
       "        <tr class=\"user-set\">\n",
       "            <td><i class=\"copy-paste-icon\"\n",
       "                 onclick=\"copyToClipboard('scale_pos_weight',\n",
       "                          this.parentElement.nextElementSibling)\"\n",
       "            ></i></td>\n",
       "            <td class=\"param\">scale_pos_weight&nbsp;</td>\n",
       "            <td class=\"value\">None</td>\n",
       "        </tr>\n",
       "    \n",
       "\n",
       "        <tr class=\"user-set\">\n",
       "            <td><i class=\"copy-paste-icon\"\n",
       "                 onclick=\"copyToClipboard('subsample',\n",
       "                          this.parentElement.nextElementSibling)\"\n",
       "            ></i></td>\n",
       "            <td class=\"param\">subsample&nbsp;</td>\n",
       "            <td class=\"value\">0.6</td>\n",
       "        </tr>\n",
       "    \n",
       "\n",
       "        <tr class=\"user-set\">\n",
       "            <td><i class=\"copy-paste-icon\"\n",
       "                 onclick=\"copyToClipboard('tree_method',\n",
       "                          this.parentElement.nextElementSibling)\"\n",
       "            ></i></td>\n",
       "            <td class=\"param\">tree_method&nbsp;</td>\n",
       "            <td class=\"value\">None</td>\n",
       "        </tr>\n",
       "    \n",
       "\n",
       "        <tr class=\"user-set\">\n",
       "            <td><i class=\"copy-paste-icon\"\n",
       "                 onclick=\"copyToClipboard('validate_parameters',\n",
       "                          this.parentElement.nextElementSibling)\"\n",
       "            ></i></td>\n",
       "            <td class=\"param\">validate_parameters&nbsp;</td>\n",
       "            <td class=\"value\">None</td>\n",
       "        </tr>\n",
       "    \n",
       "\n",
       "        <tr class=\"user-set\">\n",
       "            <td><i class=\"copy-paste-icon\"\n",
       "                 onclick=\"copyToClipboard('verbosity',\n",
       "                          this.parentElement.nextElementSibling)\"\n",
       "            ></i></td>\n",
       "            <td class=\"param\">verbosity&nbsp;</td>\n",
       "            <td class=\"value\">None</td>\n",
       "        </tr>\n",
       "    \n",
       "\n",
       "        <tr class=\"user-set\">\n",
       "            <td><i class=\"copy-paste-icon\"\n",
       "                 onclick=\"copyToClipboard('use_label_encoder',\n",
       "                          this.parentElement.nextElementSibling)\"\n",
       "            ></i></td>\n",
       "            <td class=\"param\">use_label_encoder&nbsp;</td>\n",
       "            <td class=\"value\">False</td>\n",
       "        </tr>\n",
       "    \n",
       "                  </tbody>\n",
       "                </table>\n",
       "            </details>\n",
       "        </div>\n",
       "    </div></div></div></div></div></div></div></div></div></div><script>function copyToClipboard(text, element) {\n",
       "    // Get the parameter prefix from the closest toggleable content\n",
       "    const toggleableContent = element.closest('.sk-toggleable__content');\n",
       "    const paramPrefix = toggleableContent ? toggleableContent.dataset.paramPrefix : '';\n",
       "    const fullParamName = paramPrefix ? `${paramPrefix}${text}` : text;\n",
       "\n",
       "    const originalStyle = element.style;\n",
       "    const computedStyle = window.getComputedStyle(element);\n",
       "    const originalWidth = computedStyle.width;\n",
       "    const originalHTML = element.innerHTML.replace('Copied!', '');\n",
       "\n",
       "    navigator.clipboard.writeText(fullParamName)\n",
       "        .then(() => {\n",
       "            element.style.width = originalWidth;\n",
       "            element.style.color = 'green';\n",
       "            element.innerHTML = \"Copied!\";\n",
       "\n",
       "            setTimeout(() => {\n",
       "                element.innerHTML = originalHTML;\n",
       "                element.style = originalStyle;\n",
       "            }, 2000);\n",
       "        })\n",
       "        .catch(err => {\n",
       "            console.error('Failed to copy:', err);\n",
       "            element.style.color = 'red';\n",
       "            element.innerHTML = \"Failed!\";\n",
       "            setTimeout(() => {\n",
       "                element.innerHTML = originalHTML;\n",
       "                element.style = originalStyle;\n",
       "            }, 2000);\n",
       "        });\n",
       "    return false;\n",
       "}\n",
       "\n",
       "document.querySelectorAll('.fa-regular.fa-copy').forEach(function(element) {\n",
       "    const toggleableContent = element.closest('.sk-toggleable__content');\n",
       "    const paramPrefix = toggleableContent ? toggleableContent.dataset.paramPrefix : '';\n",
       "    const paramName = element.parentElement.nextElementSibling.textContent.trim();\n",
       "    const fullParamName = paramPrefix ? `${paramPrefix}${paramName}` : paramName;\n",
       "\n",
       "    element.setAttribute('title', fullParamName);\n",
       "});\n",
       "</script></body>"
      ],
      "text/plain": [
       "RandomizedSearchCV(cv=5,\n",
       "                   estimator=XGBClassifier(base_score=None, booster=None,\n",
       "                                           callbacks=None,\n",
       "                                           colsample_bylevel=None,\n",
       "                                           colsample_bynode=None,\n",
       "                                           colsample_bytree=None, device=None,\n",
       "                                           early_stopping_rounds=None,\n",
       "                                           enable_categorical=False,\n",
       "                                           eval_metric='logloss',\n",
       "                                           feature_types=None,\n",
       "                                           feature_weights=None, gamma=None,\n",
       "                                           grow_policy=None,\n",
       "                                           importance_type=None,\n",
       "                                           interaction_cons...\n",
       "                                           n_estimators=100, n_jobs=None,\n",
       "                                           num_parallel_tree=None, ...),\n",
       "                   n_iter=50, n_jobs=-1,\n",
       "                   param_distributions={'colsample_bytree': [0.6, 0.8, 1.0],\n",
       "                                        'gamma': [0, 0.1, 0.3],\n",
       "                                        'learning_rate': [0.01, 0.1, 0.2],\n",
       "                                        'max_depth': [3, 5, 7, 10],\n",
       "                                        'min_child_weight': [1, 3, 5],\n",
       "                                        'n_estimators': [100, 300, 500],\n",
       "                                        'reg_alpha': [0, 0.1, 1],\n",
       "                                        'reg_lambda': [1, 1.5, 2],\n",
       "                                        'subsample': [0.6, 0.8, 1.0]},\n",
       "                   random_state=42, scoring='accuracy', verbose=1)"
      ]
     },
     "execution_count": 57,
     "metadata": {},
     "output_type": "execute_result"
    }
   ],
   "source": [
    "# Train and tune a Support Vector Classifier (SVC) model\n",
    "xg_params = {\n",
    "    'n_estimators': [100, 300, 500],\n",
    "    'learning_rate': [0.01, 0.1, 0.2],\n",
    "    'max_depth': [3, 5, 7, 10],\n",
    "    'min_child_weight': [1, 3, 5],\n",
    "    'gamma': [0, 0.1, 0.3],\n",
    "    'subsample': [0.6, 0.8, 1.0],\n",
    "    'colsample_bytree': [0.6, 0.8, 1.0],\n",
    "    'reg_alpha': [0, 0.1, 1],\n",
    "    'reg_lambda': [1, 1.5, 2],\n",
    "}\n",
    "\n",
    "random_search = RandomizedSearchCV(xg, param_distributions=xg_params, \n",
    "                                   n_iter=50, cv=5, scoring='accuracy', \n",
    "                                   verbose=1, random_state=42, n_jobs=-1)\n",
    "random_search.fit(X_train, y_train)"
   ]
  },
  {
   "cell_type": "markdown",
   "id": "fc87a8ca",
   "metadata": {},
   "source": [
    "Final Validation"
   ]
  },
  {
   "cell_type": "code",
   "execution_count": 58,
   "id": "7efe84f7",
   "metadata": {},
   "outputs": [
    {
     "name": "stdout",
     "output_type": "stream",
     "text": [
      "Brier Score: 0.07244938765056182\n"
     ]
    }
   ],
   "source": [
    "#Final Validation of a Logistic Regression model\n",
    "log_reg = LogisticRegression(C= 0.1, penalty='l1', solver='saga')\n",
    "log_reg.fit(X_train_log_reg_2, y_train)\n",
    "y_val_proba = log_reg.predict_proba(X_val_log_reg_2)[:, 1]  # Probability of positive class\n",
    "brier_score = brier_score_loss(y_val, y_val_proba)\n",
    "print(\"Brier Score:\", brier_score)"
   ]
  },
  {
   "cell_type": "code",
   "execution_count": 59,
   "id": "732befc4",
   "metadata": {},
   "outputs": [
    {
     "name": "stdout",
     "output_type": "stream",
     "text": [
      "Brier Score: 0.0747448408133131\n"
     ]
    }
   ],
   "source": [
    "# Final Validation of a Random Forest model\n",
    "rand_for = RandomForestClassifier(n_estimators=200, random_state=42, class_weight='balanced', max_depth=20, max_features='sqrt', min_samples_leaf=1, min_samples_split=2)\n",
    "rand_for.fit(X_train_ran_for_2, y_train)\n",
    "y_val_proba = rand_for.predict_proba(X_val_ran_for_2)[:, 1]  # Probability of positive class\n",
    "brier_score = brier_score_loss(y_val, y_val_proba)\n",
    "print(\"Brier Score:\", brier_score)"
   ]
  },
  {
   "cell_type": "code",
   "execution_count": 60,
   "id": "0f7480e6",
   "metadata": {},
   "outputs": [
    {
     "name": "stdout",
     "output_type": "stream",
     "text": [
      "Brier Score: 0.07408612119343796\n"
     ]
    }
   ],
   "source": [
    "#Final Validation of an XGBoost model\n",
    "svc = SVC(probability=True, kernel='rbf', random_state=42, C=10, gamma=0.1)\n",
    "svc.fit(X_train_svc_3, y_train)\n",
    "y_val_proba = svc.predict_proba(X_val_svc_3)[:, 1]  # Probability of positive class\n",
    "brier_score = brier_score_loss(y_val, y_val_proba)\n",
    "print(\"Brier Score:\", brier_score)\n"
   ]
  },
  {
   "cell_type": "code",
   "execution_count": 61,
   "id": "ae02eaf4",
   "metadata": {
    "vscode": {
     "languageId": "shellscript"
    }
   },
   "outputs": [
    {
     "name": "stdout",
     "output_type": "stream",
     "text": [
      "Brier Score: 0.07243038460510119\n"
     ]
    }
   ],
   "source": [
    "# Final Validation of an XGBoost model\n",
    "xg = XGBClassifier(probability=True, kernel='rbf', random_state=42,  n_estimators = 300 ,colsample_bytree= 0.6, eval_metric= 'logloss', C=1, gamma=0, learning_rate=0.01, max_depth = 3, min_child_weight=5, reg_alpha=0.1\n",
    ", reg_lambda=1, subsample=0.6)\n",
    "xg.fit(X_train, y_train)\n",
    "y_val_proba = xg.predict_proba(X_val)[:, 1]  # Probability of positive class\n",
    "brier_score = brier_score_loss(y_val, y_val_proba)\n",
    "print(\"Brier Score:\", brier_score)"
   ]
  },
  {
   "cell_type": "markdown",
   "id": "2017661b",
   "metadata": {},
   "source": [
    "Test on the Test Set"
   ]
  },
  {
   "cell_type": "code",
   "execution_count": 62,
   "id": "d8298325",
   "metadata": {
    "vscode": {
     "languageId": "shellscript"
    }
   },
   "outputs": [
    {
     "name": "stdout",
     "output_type": "stream",
     "text": [
      "Brier Score: 0.07340246184083705\n"
     ]
    }
   ],
   "source": [
    "# Final Testing of a Logistic Regression model\n",
    "X_test_log_reg_2 = X_test.drop(['shot.first_time', 'shot.type.name_Open Play', 'angle_nearest_opponent', 'distance_to_center'], axis=1)\n",
    "y_test_proba = log_reg.predict_proba(X_test_log_reg_2)[:, 1]  # Probability of positive class\n",
    "brier_score = brier_score_loss(y_test, y_test_proba)\n",
    "print(\"Brier Score:\", brier_score)"
   ]
  },
  {
   "cell_type": "markdown",
   "id": "317f0b16",
   "metadata": {},
   "source": [
    "Comparison between our Model and StatsBomb's xG values"
   ]
  },
  {
   "cell_type": "code",
   "execution_count": 64,
   "id": "12020d83",
   "metadata": {
    "vscode": {
     "languageId": "shellscript"
    }
   },
   "outputs": [],
   "source": [
    "df_total_shots = merged_df[[\n",
    "'Goal',\n",
    " 'shot.statsbomb_xg',\n",
    " 'shot.body_part.name_Left Foot',\n",
    " 'shot.body_part.name_Right Foot',\n",
    " 'shot.type.name_Penalty',\n",
    " 'keeper_distance_to_goal',\n",
    " 'angle_to_goalkeeper',\n",
    " 'angle_to_goal',\n",
    " 'shot_distance_to_goal',\n",
    " 'nearby_non_actors',\n",
    " 'inside_triangle', \n",
    "  'nearest_opponent']]\n"
   ]
  },
  {
   "cell_type": "code",
   "execution_count": null,
   "id": "0edb9f72",
   "metadata": {
    "vscode": {
     "languageId": "shellscript"
    }
   },
   "outputs": [],
   "source": [
    "#  Drop rows with NaN values\n",
    "df_total_shots = df_total_shots.dropna()"
   ]
  },
  {
   "cell_type": "code",
   "execution_count": 66,
   "id": "0dbfc38e",
   "metadata": {
    "vscode": {
     "languageId": "shellscript"
    }
   },
   "outputs": [],
   "source": [
    "# Scale the numeric columns\n",
    "scaler = StandardScaler()\n",
    "numeric_columns = [ 'keeper_distance_to_goal',\n",
    "       'angle_to_goalkeeper',  'angle_to_goal',\n",
    "       'shot_distance_to_goal', 'nearby_non_actors', 'inside_triangle',\n",
    "       'nearest_opponent']\n",
    "df_total_shots[numeric_columns] = scaler.fit_transform(df_total_shots[numeric_columns])"
   ]
  },
  {
   "cell_type": "code",
   "execution_count": null,
   "id": "fdaec72b",
   "metadata": {
    "vscode": {
     "languageId": "shellscript"
    }
   },
   "outputs": [],
   "source": [
    "# Define the features and target variable\n",
    "X = df_total_shots.drop(['Goal', 'shot.statsbomb_xg'], axis=1)\n",
    "y = df_total_shots['Goal']\n",
    "y_statsbomb_xg = df_total_shots['shot.statsbomb_xg']"
   ]
  },
  {
   "cell_type": "code",
   "execution_count": 104,
   "id": "24c669a5",
   "metadata": {
    "vscode": {
     "languageId": "shellscript"
    }
   },
   "outputs": [
    {
     "name": "stdout",
     "output_type": "stream",
     "text": [
      "Brier Score: 0.07654871311736708\n"
     ]
    }
   ],
   "source": [
    "# Calculate the Brier score for the StatsBomb xG values\n",
    "brier_score = brier_score_loss(y, y_statsbomb_xg)\n",
    "print(\"Brier Score:\", brier_score)"
   ]
  },
  {
   "cell_type": "code",
   "execution_count": null,
   "id": "240c111c",
   "metadata": {
    "vscode": {
     "languageId": "shellscript"
    }
   },
   "outputs": [],
   "source": [
    "# Predict using the Logistic Regression model\n",
    "y_logreg_proba = log_reg.predict_proba(X)[:, 1] "
   ]
  },
  {
   "cell_type": "code",
   "execution_count": 70,
   "id": "8e6a1ce6",
   "metadata": {
    "vscode": {
     "languageId": "shellscript"
    }
   },
   "outputs": [
    {
     "name": "stdout",
     "output_type": "stream",
     "text": [
      "RMSE: 0.0868\n",
      "R² Score: 0.7076\n"
     ]
    }
   ],
   "source": [
    "# Calculate RMSE\n",
    "rmse = np.sqrt(mean_squared_error(y_statsbomb_xg, y_logreg_proba))\n",
    "\n",
    "# Calculate R² Score\n",
    "r2 = r2_score(y_statsbomb_xg, y_logreg_proba)\n",
    "\n",
    "# Print results\n",
    "print(f\"RMSE: {rmse:.4f}\")\n",
    "print(f\"R² Score: {r2:.4f}\")"
   ]
  },
  {
   "cell_type": "code",
   "execution_count": 71,
   "id": "1c92c698",
   "metadata": {
    "vscode": {
     "languageId": "shellscript"
    }
   },
   "outputs": [
    {
     "data": {
      "image/png": "[encoded data removed]",
      "text/plain": [
       "<Figure size 800x500 with 1 Axes>"
      ]
     },
     "metadata": {},
     "output_type": "display_data"
    }
   ],
   "source": [
    "# Plot histograms\n",
    "plt.figure(figsize=(8, 5))\n",
    "plt.hist(y_statsbomb_xg, bins=5, alpha=0.6, label='Statsbomb xG', color='blue', edgecolor='black')\n",
    "plt.hist(y_logreg_proba, bins=5, alpha=0.6, label='Model xG', color='orange', edgecolor='black')\n",
    "\n",
    "\n",
    "# Add labels and legend\n",
    "plt.title('Histogram Comparison of xG Predictions')\n",
    "plt.xlabel('xG Value')\n",
    "plt.ylabel('Frequency')\n",
    "plt.legend()\n",
    "plt.grid(True)\n",
    "plt.tight_layout()\n",
    "plt.show()\n"
   ]
  },
  {
   "cell_type": "code",
   "execution_count": null,
   "id": "c8419c24",
   "metadata": {
    "vscode": {
     "languageId": "shellscript"
    }
   },
   "outputs": [
    {
     "name": "stdout",
     "output_type": "stream",
     "text": [
      "Mean xG (Model): 0.1251\n",
      "Mean xG (Statsbomb): 0.1141\n"
     ]
    }
   ],
   "source": [
    "# Calculate the mean xG values for both models\n",
    "mean_model = y_logreg_proba.mean()\n",
    "mean_benchmark = y_statsbomb_xg.mean()\n",
    "\n",
    "print(f\"Mean xG (Model): {mean_model:.4f}\")\n",
    "print(f\"Mean xG (Statsbomb): {mean_benchmark:.4f}\")\n"
   ]
  },
  {
   "cell_type": "code",
   "execution_count": null,
   "id": "fb6536fb",
   "metadata": {
    "vscode": {
     "languageId": "shellscript"
    }
   },
   "outputs": [
    {
     "data": {
      "image/png": "[encoded data removed]",
      "text/plain": [
       "<Figure size 640x480 with 1 Axes>"
      ]
     },
     "metadata": {},
     "output_type": "display_data"
    }
   ],
   "source": [
    "# Plot KDE for the differences between the two models\n",
    "sns.histplot(y_logreg_proba - y_statsbomb_xg,kde=True, bins=10, color='purple', label='Differences between models')\n",
    "plt.title('KDE Comparison of xG Differences')\n",
    "plt.xlabel('xG Value')\n",
    "plt.legend()\n",
    "plt.show()"
   ]
  },
  {
   "cell_type": "code",
   "execution_count": null,
   "id": "0e006f03",
   "metadata": {
    "vscode": {
     "languageId": "shellscript"
    }
   },
   "outputs": [
    {
     "name": "stdout",
     "output_type": "stream",
     "text": [
      "T-statistic: 7.8289, p-value: 0.000000000000006\n"
     ]
    }
   ],
   "source": [
    "# Compute the p-value for the differences between the two models\n",
    "t_stat, p_value = ttest_rel(y_logreg_proba, y_statsbomb_xg)\n",
    "print(f\"T-statistic: {t_stat:.4f}, p-value: {p_value:.15f}\")\n"
   ]
  },
  {
   "cell_type": "code",
   "execution_count": null,
   "id": "05d0c53b",
   "metadata": {
    "vscode": {
     "languageId": "shellscript"
    }
   },
   "outputs": [],
   "source": []
  }
 ],
 "metadata": {
  "kernelspec": {
   "display_name": "Python 3",
   "language": "python",
   "name": "python3"
  },
  "language_info": {
   "codemirror_mode": {
    "name": "ipython",
    "version": 3
   },
   "file_extension": ".py",
   "mimetype": "text/x-python",
   "name": "python",
   "nbconvert_exporter": "python",
   "pygments_lexer": "ipython3",
   "version": "3.13.7"
  }
 },
 "nbformat": 4,
 "nbformat_minor": 5
}
